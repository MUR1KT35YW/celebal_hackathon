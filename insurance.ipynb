{
 "cells": [
  {
   "cell_type": "markdown",
   "id": "c39ed1fa",
   "metadata": {},
   "source": [
    "# Importing library"
   ]
  },
  {
   "cell_type": "code",
   "execution_count": 48,
   "id": "1159f1ae",
   "metadata": {},
   "outputs": [],
   "source": [
    "import pandas as pd\n",
    "import numpy as np\n",
    "import seaborn as sns\n",
    "import matplotlib.pyplot as plt"
   ]
  },
  {
   "cell_type": "code",
   "execution_count": 2,
   "id": "12771ca7",
   "metadata": {},
   "outputs": [],
   "source": [
    "data=pd.read_csv(\"insurance_claims.csv\")"
   ]
  },
  {
   "cell_type": "code",
   "execution_count": 3,
   "id": "c359e65e",
   "metadata": {},
   "outputs": [
    {
     "data": {
      "text/html": [
       "<div>\n",
       "<style scoped>\n",
       "    .dataframe tbody tr th:only-of-type {\n",
       "        vertical-align: middle;\n",
       "    }\n",
       "\n",
       "    .dataframe tbody tr th {\n",
       "        vertical-align: top;\n",
       "    }\n",
       "\n",
       "    .dataframe thead th {\n",
       "        text-align: right;\n",
       "    }\n",
       "</style>\n",
       "<table border=\"1\" class=\"dataframe\">\n",
       "  <thead>\n",
       "    <tr style=\"text-align: right;\">\n",
       "      <th></th>\n",
       "      <th>months_as_customer</th>\n",
       "      <th>age</th>\n",
       "      <th>policy_number</th>\n",
       "      <th>policy_bind_date</th>\n",
       "      <th>policy_state</th>\n",
       "      <th>policy_csl</th>\n",
       "      <th>policy_deductable</th>\n",
       "      <th>policy_annual_premium</th>\n",
       "      <th>umbrella_limit</th>\n",
       "      <th>insured_zip</th>\n",
       "      <th>...</th>\n",
       "      <th>police_report_available</th>\n",
       "      <th>total_claim_amount</th>\n",
       "      <th>injury_claim</th>\n",
       "      <th>property_claim</th>\n",
       "      <th>vehicle_claim</th>\n",
       "      <th>auto_make</th>\n",
       "      <th>auto_model</th>\n",
       "      <th>auto_year</th>\n",
       "      <th>fraud_reported</th>\n",
       "      <th>_c39</th>\n",
       "    </tr>\n",
       "  </thead>\n",
       "  <tbody>\n",
       "    <tr>\n",
       "      <th>0</th>\n",
       "      <td>328</td>\n",
       "      <td>48</td>\n",
       "      <td>521585</td>\n",
       "      <td>2014-10-17</td>\n",
       "      <td>OH</td>\n",
       "      <td>250/500</td>\n",
       "      <td>1000</td>\n",
       "      <td>1406.91</td>\n",
       "      <td>0</td>\n",
       "      <td>466132</td>\n",
       "      <td>...</td>\n",
       "      <td>YES</td>\n",
       "      <td>71610</td>\n",
       "      <td>6510</td>\n",
       "      <td>13020</td>\n",
       "      <td>52080</td>\n",
       "      <td>Saab</td>\n",
       "      <td>92x</td>\n",
       "      <td>2004</td>\n",
       "      <td>Y</td>\n",
       "      <td>NaN</td>\n",
       "    </tr>\n",
       "    <tr>\n",
       "      <th>1</th>\n",
       "      <td>228</td>\n",
       "      <td>42</td>\n",
       "      <td>342868</td>\n",
       "      <td>2006-06-27</td>\n",
       "      <td>IN</td>\n",
       "      <td>250/500</td>\n",
       "      <td>2000</td>\n",
       "      <td>1197.22</td>\n",
       "      <td>5000000</td>\n",
       "      <td>468176</td>\n",
       "      <td>...</td>\n",
       "      <td>?</td>\n",
       "      <td>5070</td>\n",
       "      <td>780</td>\n",
       "      <td>780</td>\n",
       "      <td>3510</td>\n",
       "      <td>Mercedes</td>\n",
       "      <td>E400</td>\n",
       "      <td>2007</td>\n",
       "      <td>Y</td>\n",
       "      <td>NaN</td>\n",
       "    </tr>\n",
       "    <tr>\n",
       "      <th>2</th>\n",
       "      <td>134</td>\n",
       "      <td>29</td>\n",
       "      <td>687698</td>\n",
       "      <td>2000-09-06</td>\n",
       "      <td>OH</td>\n",
       "      <td>100/300</td>\n",
       "      <td>2000</td>\n",
       "      <td>1413.14</td>\n",
       "      <td>5000000</td>\n",
       "      <td>430632</td>\n",
       "      <td>...</td>\n",
       "      <td>NO</td>\n",
       "      <td>34650</td>\n",
       "      <td>7700</td>\n",
       "      <td>3850</td>\n",
       "      <td>23100</td>\n",
       "      <td>Dodge</td>\n",
       "      <td>RAM</td>\n",
       "      <td>2007</td>\n",
       "      <td>N</td>\n",
       "      <td>NaN</td>\n",
       "    </tr>\n",
       "    <tr>\n",
       "      <th>3</th>\n",
       "      <td>256</td>\n",
       "      <td>41</td>\n",
       "      <td>227811</td>\n",
       "      <td>1990-05-25</td>\n",
       "      <td>IL</td>\n",
       "      <td>250/500</td>\n",
       "      <td>2000</td>\n",
       "      <td>1415.74</td>\n",
       "      <td>6000000</td>\n",
       "      <td>608117</td>\n",
       "      <td>...</td>\n",
       "      <td>NO</td>\n",
       "      <td>63400</td>\n",
       "      <td>6340</td>\n",
       "      <td>6340</td>\n",
       "      <td>50720</td>\n",
       "      <td>Chevrolet</td>\n",
       "      <td>Tahoe</td>\n",
       "      <td>2014</td>\n",
       "      <td>Y</td>\n",
       "      <td>NaN</td>\n",
       "    </tr>\n",
       "    <tr>\n",
       "      <th>4</th>\n",
       "      <td>228</td>\n",
       "      <td>44</td>\n",
       "      <td>367455</td>\n",
       "      <td>2014-06-06</td>\n",
       "      <td>IL</td>\n",
       "      <td>500/1000</td>\n",
       "      <td>1000</td>\n",
       "      <td>1583.91</td>\n",
       "      <td>6000000</td>\n",
       "      <td>610706</td>\n",
       "      <td>...</td>\n",
       "      <td>NO</td>\n",
       "      <td>6500</td>\n",
       "      <td>1300</td>\n",
       "      <td>650</td>\n",
       "      <td>4550</td>\n",
       "      <td>Accura</td>\n",
       "      <td>RSX</td>\n",
       "      <td>2009</td>\n",
       "      <td>N</td>\n",
       "      <td>NaN</td>\n",
       "    </tr>\n",
       "  </tbody>\n",
       "</table>\n",
       "<p>5 rows × 40 columns</p>\n",
       "</div>"
      ],
      "text/plain": [
       "   months_as_customer  age  policy_number policy_bind_date policy_state  \\\n",
       "0                 328   48         521585       2014-10-17           OH   \n",
       "1                 228   42         342868       2006-06-27           IN   \n",
       "2                 134   29         687698       2000-09-06           OH   \n",
       "3                 256   41         227811       1990-05-25           IL   \n",
       "4                 228   44         367455       2014-06-06           IL   \n",
       "\n",
       "  policy_csl  policy_deductable  policy_annual_premium  umbrella_limit  \\\n",
       "0    250/500               1000                1406.91               0   \n",
       "1    250/500               2000                1197.22         5000000   \n",
       "2    100/300               2000                1413.14         5000000   \n",
       "3    250/500               2000                1415.74         6000000   \n",
       "4   500/1000               1000                1583.91         6000000   \n",
       "\n",
       "   insured_zip  ... police_report_available total_claim_amount injury_claim  \\\n",
       "0       466132  ...                     YES              71610         6510   \n",
       "1       468176  ...                       ?               5070          780   \n",
       "2       430632  ...                      NO              34650         7700   \n",
       "3       608117  ...                      NO              63400         6340   \n",
       "4       610706  ...                      NO               6500         1300   \n",
       "\n",
       "  property_claim vehicle_claim  auto_make  auto_model auto_year  \\\n",
       "0          13020         52080       Saab         92x      2004   \n",
       "1            780          3510   Mercedes        E400      2007   \n",
       "2           3850         23100      Dodge         RAM      2007   \n",
       "3           6340         50720  Chevrolet       Tahoe      2014   \n",
       "4            650          4550     Accura         RSX      2009   \n",
       "\n",
       "  fraud_reported _c39  \n",
       "0              Y  NaN  \n",
       "1              Y  NaN  \n",
       "2              N  NaN  \n",
       "3              Y  NaN  \n",
       "4              N  NaN  \n",
       "\n",
       "[5 rows x 40 columns]"
      ]
     },
     "execution_count": 3,
     "metadata": {},
     "output_type": "execute_result"
    }
   ],
   "source": [
    "data.head()"
   ]
  },
  {
   "cell_type": "markdown",
   "id": "0aa37354",
   "metadata": {},
   "source": [
    "# Performing EDA "
   ]
  },
  {
   "cell_type": "code",
   "execution_count": 5,
   "id": "19a3a4ca",
   "metadata": {},
   "outputs": [
    {
     "data": {
      "text/plain": [
       "(1000, 40)"
      ]
     },
     "execution_count": 5,
     "metadata": {},
     "output_type": "execute_result"
    }
   ],
   "source": [
    "## SIZE OF DATA\n",
    "### Shape of data is (1000,40)\n",
    "data.shape"
   ]
  },
  {
   "cell_type": "code",
   "execution_count": 7,
   "id": "dd834def",
   "metadata": {},
   "outputs": [
    {
     "data": {
      "text/plain": [
       "Index(['months_as_customer', 'age', 'policy_number', 'policy_bind_date',\n",
       "       'policy_state', 'policy_csl', 'policy_deductable',\n",
       "       'policy_annual_premium', 'umbrella_limit', 'insured_zip', 'insured_sex',\n",
       "       'insured_education_level', 'insured_occupation', 'insured_hobbies',\n",
       "       'insured_relationship', 'capital-gains', 'capital-loss',\n",
       "       'incident_date', 'incident_type', 'collision_type', 'incident_severity',\n",
       "       'authorities_contacted', 'incident_state', 'incident_city',\n",
       "       'incident_location', 'incident_hour_of_the_day',\n",
       "       'number_of_vehicles_involved', 'property_damage', 'bodily_injuries',\n",
       "       'witnesses', 'police_report_available', 'total_claim_amount',\n",
       "       'injury_claim', 'property_claim', 'vehicle_claim', 'auto_make',\n",
       "       'auto_model', 'auto_year', 'fraud_reported', '_c39'],\n",
       "      dtype='object')"
      ]
     },
     "execution_count": 7,
     "metadata": {},
     "output_type": "execute_result"
    }
   ],
   "source": [
    "data.columns"
   ]
  },
  {
   "cell_type": "markdown",
   "id": "8baa85b5",
   "metadata": {},
   "source": [
    "# Checking Nulls Values"
   ]
  },
  {
   "cell_type": "code",
   "execution_count": null,
   "id": "2eabee99",
   "metadata": {},
   "outputs": [],
   "source": [
    "data.isnull().sum()"
   ]
  },
  {
   "cell_type": "code",
   "execution_count": 14,
   "id": "60440707",
   "metadata": {},
   "outputs": [],
   "source": [
    "# droping null values in _c39 Because it all null values\n",
    "data.drop('_c39',axis=1,inplace=True)"
   ]
  },
  {
   "cell_type": "markdown",
   "id": "7d76f297",
   "metadata": {},
   "source": [
    "# Plotting heatmap for checking correlation"
   ]
  },
  {
   "cell_type": "code",
   "execution_count": 159,
   "id": "b63ffe95",
   "metadata": {},
   "outputs": [
    {
     "data": {
      "text/plain": [
       "<AxesSubplot:>"
      ]
     },
     "execution_count": 159,
     "metadata": {},
     "output_type": "execute_result"
    },
    {
     "data": {
      "image/png": "[encoded data removed]",
      "text/plain": [
       "<Figure size 1296x1296 with 2 Axes>"
      ]
     },
     "metadata": {
      "needs_background": "light"
     },
     "output_type": "display_data"
    }
   ],
   "source": [
    "plt.figure(figsize=(18,18))\n",
    "sns.heatmap(data.corr(),annot=True,cmap=\"RdYlGn\")"
   ]
  },
  {
   "cell_type": "code",
   "execution_count": 15,
   "id": "b66de1d7",
   "metadata": {},
   "outputs": [
    {
     "data": {
      "text/plain": [
       "Index(['months_as_customer', 'age', 'policy_number', 'policy_bind_date',\n",
       "       'policy_state', 'policy_csl', 'policy_deductable',\n",
       "       'policy_annual_premium', 'umbrella_limit', 'insured_zip', 'insured_sex',\n",
       "       'insured_education_level', 'insured_occupation', 'insured_hobbies',\n",
       "       'insured_relationship', 'capital-gains', 'capital-loss',\n",
       "       'incident_date', 'incident_type', 'collision_type', 'incident_severity',\n",
       "       'authorities_contacted', 'incident_state', 'incident_city',\n",
       "       'incident_location', 'incident_hour_of_the_day',\n",
       "       'number_of_vehicles_involved', 'property_damage', 'bodily_injuries',\n",
       "       'witnesses', 'police_report_available', 'total_claim_amount',\n",
       "       'injury_claim', 'property_claim', 'vehicle_claim', 'auto_make',\n",
       "       'auto_model', 'auto_year', 'fraud_reported'],\n",
       "      dtype='object')"
      ]
     },
     "execution_count": 15,
     "metadata": {},
     "output_type": "execute_result"
    }
   ],
   "source": [
    "data.columns"
   ]
  },
  {
   "cell_type": "code",
   "execution_count": 16,
   "id": "3ef3371d",
   "metadata": {},
   "outputs": [
    {
     "name": "stdout",
     "output_type": "stream",
     "text": [
      "<class 'pandas.core.frame.DataFrame'>\n",
      "RangeIndex: 1000 entries, 0 to 999\n",
      "Data columns (total 39 columns):\n",
      " #   Column                       Non-Null Count  Dtype  \n",
      "---  ------                       --------------  -----  \n",
      " 0   months_as_customer           1000 non-null   int64  \n",
      " 1   age                          1000 non-null   int64  \n",
      " 2   policy_number                1000 non-null   int64  \n",
      " 3   policy_bind_date             1000 non-null   object \n",
      " 4   policy_state                 1000 non-null   object \n",
      " 5   policy_csl                   1000 non-null   object \n",
      " 6   policy_deductable            1000 non-null   int64  \n",
      " 7   policy_annual_premium        1000 non-null   float64\n",
      " 8   umbrella_limit               1000 non-null   int64  \n",
      " 9   insured_zip                  1000 non-null   int64  \n",
      " 10  insured_sex                  1000 non-null   object \n",
      " 11  insured_education_level      1000 non-null   object \n",
      " 12  insured_occupation           1000 non-null   object \n",
      " 13  insured_hobbies              1000 non-null   object \n",
      " 14  insured_relationship         1000 non-null   object \n",
      " 15  capital-gains                1000 non-null   int64  \n",
      " 16  capital-loss                 1000 non-null   int64  \n",
      " 17  incident_date                1000 non-null   object \n",
      " 18  incident_type                1000 non-null   object \n",
      " 19  collision_type               1000 non-null   object \n",
      " 20  incident_severity            1000 non-null   object \n",
      " 21  authorities_contacted        1000 non-null   object \n",
      " 22  incident_state               1000 non-null   object \n",
      " 23  incident_city                1000 non-null   object \n",
      " 24  incident_location            1000 non-null   object \n",
      " 25  incident_hour_of_the_day     1000 non-null   int64  \n",
      " 26  number_of_vehicles_involved  1000 non-null   int64  \n",
      " 27  property_damage              1000 non-null   object \n",
      " 28  bodily_injuries              1000 non-null   int64  \n",
      " 29  witnesses                    1000 non-null   int64  \n",
      " 30  police_report_available      1000 non-null   object \n",
      " 31  total_claim_amount           1000 non-null   int64  \n",
      " 32  injury_claim                 1000 non-null   int64  \n",
      " 33  property_claim               1000 non-null   int64  \n",
      " 34  vehicle_claim                1000 non-null   int64  \n",
      " 35  auto_make                    1000 non-null   object \n",
      " 36  auto_model                   1000 non-null   object \n",
      " 37  auto_year                    1000 non-null   int64  \n",
      " 38  fraud_reported               1000 non-null   object \n",
      "dtypes: float64(1), int64(17), object(21)\n",
      "memory usage: 304.8+ KB\n"
     ]
    }
   ],
   "source": [
    "data.info()"
   ]
  },
  {
   "cell_type": "markdown",
   "id": "44da9782",
   "metadata": {},
   "source": [
    "# For Better EDA using Pandas profilling library"
   ]
  },
  {
   "cell_type": "code",
   "execution_count": 160,
   "id": "a214e0c7",
   "metadata": {},
   "outputs": [
    {
     "data": {
      "application/vnd.jupyter.widget-view+json": {
       "model_id": "5caa85337b704bc4934f2c694a2787d4",
       "version_major": 2,
       "version_minor": 0
      },
      "text/plain": [
       "Summarize dataset:   0%|          | 0/5 [00:00<?, ?it/s]"
      ]
     },
     "metadata": {},
     "output_type": "display_data"
    },
    {
     "data": {
      "application/vnd.jupyter.widget-view+json": {
       "model_id": "14d503df125e4ce2ab19f5debcd1c689",
       "version_major": 2,
       "version_minor": 0
      },
      "text/plain": [
       "Generate report structure:   0%|          | 0/1 [00:00<?, ?it/s]"
      ]
     },
     "metadata": {},
     "output_type": "display_data"
    },
    {
     "data": {
      "application/vnd.jupyter.widget-view+json": {
       "model_id": "1c94bcc9343b4d57a87379347b0aff84",
       "version_major": 2,
       "version_minor": 0
      },
      "text/plain": [
       "Render HTML:   0%|          | 0/1 [00:00<?, ?it/s]"
      ]
     },
     "metadata": {},
     "output_type": "display_data"
    },
    {
     "data": {
      "application/vnd.jupyter.widget-view+json": {
       "model_id": "e6758a2a7c044d12a35013b3b14a22ba",
       "version_major": 2,
       "version_minor": 0
      },
      "text/plain": [
       "Export report to file:   0%|          | 0/1 [00:00<?, ?it/s]"
      ]
     },
     "metadata": {},
     "output_type": "display_data"
    }
   ],
   "source": [
    "import pandas_profiling as pp\n",
    "profile = pp.ProfileReport(data)\n",
    "profile.to_file(\"output.html\")"
   ]
  },
  {
   "cell_type": "code",
   "execution_count": 20,
   "id": "755c4a3f",
   "metadata": {},
   "outputs": [
    {
     "data": {
      "text/plain": [
       "array(['OH', 'IN', 'IL'], dtype=object)"
      ]
     },
     "execution_count": 20,
     "metadata": {},
     "output_type": "execute_result"
    }
   ],
   "source": [
    "# POLICY STATE\n",
    "data.policy_state.unique()"
   ]
  },
  {
   "cell_type": "code",
   "execution_count": 22,
   "id": "e370da27",
   "metadata": {},
   "outputs": [
    {
     "data": {
      "text/plain": [
       "array(['250/500', '100/300', '500/1000'], dtype=object)"
      ]
     },
     "execution_count": 22,
     "metadata": {},
     "output_type": "execute_result"
    }
   ],
   "source": [
    "data.policy_csl.unique()\n"
   ]
  },
  {
   "cell_type": "code",
   "execution_count": 24,
   "id": "da745e72",
   "metadata": {},
   "outputs": [
    {
     "data": {
      "text/plain": [
       "OH    352\n",
       "IL    338\n",
       "IN    310\n",
       "Name: policy_state, dtype: int64"
      ]
     },
     "execution_count": 24,
     "metadata": {},
     "output_type": "execute_result"
    }
   ],
   "source": [
    "data['policy_state'].value_counts()"
   ]
  },
  {
   "cell_type": "code",
   "execution_count": 25,
   "id": "95666ff9",
   "metadata": {},
   "outputs": [
    {
     "data": {
      "text/plain": [
       "250/500     351\n",
       "100/300     349\n",
       "500/1000    300\n",
       "Name: policy_csl, dtype: int64"
      ]
     },
     "execution_count": 25,
     "metadata": {},
     "output_type": "execute_result"
    }
   ],
   "source": [
    "data['policy_csl'].value_counts()"
   ]
  },
  {
   "cell_type": "markdown",
   "id": "9c57fb88",
   "metadata": {},
   "source": [
    "# Here i am using OneHotEncoder for handling categorical features "
   ]
  },
  {
   "cell_type": "code",
   "execution_count": 26,
   "id": "bd616981",
   "metadata": {},
   "outputs": [],
   "source": [
    "# converting a policiy state and csl \n",
    "from sklearn.preprocessing import OneHotEncoder\n"
   ]
  },
  {
   "cell_type": "code",
   "execution_count": 27,
   "id": "7aedc9f1",
   "metadata": {},
   "outputs": [],
   "source": [
    "data1 = pd.get_dummies(data, columns = ['policy_state', 'policy_csl'])"
   ]
  },
  {
   "cell_type": "code",
   "execution_count": 28,
   "id": "d80a8369",
   "metadata": {},
   "outputs": [
    {
     "data": {
      "text/html": [
       "<div>\n",
       "<style scoped>\n",
       "    .dataframe tbody tr th:only-of-type {\n",
       "        vertical-align: middle;\n",
       "    }\n",
       "\n",
       "    .dataframe tbody tr th {\n",
       "        vertical-align: top;\n",
       "    }\n",
       "\n",
       "    .dataframe thead th {\n",
       "        text-align: right;\n",
       "    }\n",
       "</style>\n",
       "<table border=\"1\" class=\"dataframe\">\n",
       "  <thead>\n",
       "    <tr style=\"text-align: right;\">\n",
       "      <th></th>\n",
       "      <th>months_as_customer</th>\n",
       "      <th>age</th>\n",
       "      <th>policy_number</th>\n",
       "      <th>policy_bind_date</th>\n",
       "      <th>policy_deductable</th>\n",
       "      <th>policy_annual_premium</th>\n",
       "      <th>umbrella_limit</th>\n",
       "      <th>insured_zip</th>\n",
       "      <th>insured_sex</th>\n",
       "      <th>insured_education_level</th>\n",
       "      <th>...</th>\n",
       "      <th>auto_make</th>\n",
       "      <th>auto_model</th>\n",
       "      <th>auto_year</th>\n",
       "      <th>fraud_reported</th>\n",
       "      <th>policy_state_IL</th>\n",
       "      <th>policy_state_IN</th>\n",
       "      <th>policy_state_OH</th>\n",
       "      <th>policy_csl_100/300</th>\n",
       "      <th>policy_csl_250/500</th>\n",
       "      <th>policy_csl_500/1000</th>\n",
       "    </tr>\n",
       "  </thead>\n",
       "  <tbody>\n",
       "    <tr>\n",
       "      <th>0</th>\n",
       "      <td>328</td>\n",
       "      <td>48</td>\n",
       "      <td>521585</td>\n",
       "      <td>2014-10-17</td>\n",
       "      <td>1000</td>\n",
       "      <td>1406.91</td>\n",
       "      <td>0</td>\n",
       "      <td>466132</td>\n",
       "      <td>MALE</td>\n",
       "      <td>MD</td>\n",
       "      <td>...</td>\n",
       "      <td>Saab</td>\n",
       "      <td>92x</td>\n",
       "      <td>2004</td>\n",
       "      <td>Y</td>\n",
       "      <td>0</td>\n",
       "      <td>0</td>\n",
       "      <td>1</td>\n",
       "      <td>0</td>\n",
       "      <td>1</td>\n",
       "      <td>0</td>\n",
       "    </tr>\n",
       "    <tr>\n",
       "      <th>1</th>\n",
       "      <td>228</td>\n",
       "      <td>42</td>\n",
       "      <td>342868</td>\n",
       "      <td>2006-06-27</td>\n",
       "      <td>2000</td>\n",
       "      <td>1197.22</td>\n",
       "      <td>5000000</td>\n",
       "      <td>468176</td>\n",
       "      <td>MALE</td>\n",
       "      <td>MD</td>\n",
       "      <td>...</td>\n",
       "      <td>Mercedes</td>\n",
       "      <td>E400</td>\n",
       "      <td>2007</td>\n",
       "      <td>Y</td>\n",
       "      <td>0</td>\n",
       "      <td>1</td>\n",
       "      <td>0</td>\n",
       "      <td>0</td>\n",
       "      <td>1</td>\n",
       "      <td>0</td>\n",
       "    </tr>\n",
       "    <tr>\n",
       "      <th>2</th>\n",
       "      <td>134</td>\n",
       "      <td>29</td>\n",
       "      <td>687698</td>\n",
       "      <td>2000-09-06</td>\n",
       "      <td>2000</td>\n",
       "      <td>1413.14</td>\n",
       "      <td>5000000</td>\n",
       "      <td>430632</td>\n",
       "      <td>FEMALE</td>\n",
       "      <td>PhD</td>\n",
       "      <td>...</td>\n",
       "      <td>Dodge</td>\n",
       "      <td>RAM</td>\n",
       "      <td>2007</td>\n",
       "      <td>N</td>\n",
       "      <td>0</td>\n",
       "      <td>0</td>\n",
       "      <td>1</td>\n",
       "      <td>1</td>\n",
       "      <td>0</td>\n",
       "      <td>0</td>\n",
       "    </tr>\n",
       "    <tr>\n",
       "      <th>3</th>\n",
       "      <td>256</td>\n",
       "      <td>41</td>\n",
       "      <td>227811</td>\n",
       "      <td>1990-05-25</td>\n",
       "      <td>2000</td>\n",
       "      <td>1415.74</td>\n",
       "      <td>6000000</td>\n",
       "      <td>608117</td>\n",
       "      <td>FEMALE</td>\n",
       "      <td>PhD</td>\n",
       "      <td>...</td>\n",
       "      <td>Chevrolet</td>\n",
       "      <td>Tahoe</td>\n",
       "      <td>2014</td>\n",
       "      <td>Y</td>\n",
       "      <td>1</td>\n",
       "      <td>0</td>\n",
       "      <td>0</td>\n",
       "      <td>0</td>\n",
       "      <td>1</td>\n",
       "      <td>0</td>\n",
       "    </tr>\n",
       "    <tr>\n",
       "      <th>4</th>\n",
       "      <td>228</td>\n",
       "      <td>44</td>\n",
       "      <td>367455</td>\n",
       "      <td>2014-06-06</td>\n",
       "      <td>1000</td>\n",
       "      <td>1583.91</td>\n",
       "      <td>6000000</td>\n",
       "      <td>610706</td>\n",
       "      <td>MALE</td>\n",
       "      <td>Associate</td>\n",
       "      <td>...</td>\n",
       "      <td>Accura</td>\n",
       "      <td>RSX</td>\n",
       "      <td>2009</td>\n",
       "      <td>N</td>\n",
       "      <td>1</td>\n",
       "      <td>0</td>\n",
       "      <td>0</td>\n",
       "      <td>0</td>\n",
       "      <td>0</td>\n",
       "      <td>1</td>\n",
       "    </tr>\n",
       "  </tbody>\n",
       "</table>\n",
       "<p>5 rows × 43 columns</p>\n",
       "</div>"
      ],
      "text/plain": [
       "   months_as_customer  age  policy_number policy_bind_date  policy_deductable  \\\n",
       "0                 328   48         521585       2014-10-17               1000   \n",
       "1                 228   42         342868       2006-06-27               2000   \n",
       "2                 134   29         687698       2000-09-06               2000   \n",
       "3                 256   41         227811       1990-05-25               2000   \n",
       "4                 228   44         367455       2014-06-06               1000   \n",
       "\n",
       "   policy_annual_premium  umbrella_limit  insured_zip insured_sex  \\\n",
       "0                1406.91               0       466132        MALE   \n",
       "1                1197.22         5000000       468176        MALE   \n",
       "2                1413.14         5000000       430632      FEMALE   \n",
       "3                1415.74         6000000       608117      FEMALE   \n",
       "4                1583.91         6000000       610706        MALE   \n",
       "\n",
       "  insured_education_level  ...  auto_make auto_model auto_year  \\\n",
       "0                      MD  ...       Saab        92x      2004   \n",
       "1                      MD  ...   Mercedes       E400      2007   \n",
       "2                     PhD  ...      Dodge        RAM      2007   \n",
       "3                     PhD  ...  Chevrolet      Tahoe      2014   \n",
       "4               Associate  ...     Accura        RSX      2009   \n",
       "\n",
       "   fraud_reported  policy_state_IL policy_state_IN policy_state_OH  \\\n",
       "0               Y                0               0               1   \n",
       "1               Y                0               1               0   \n",
       "2               N                0               0               1   \n",
       "3               Y                1               0               0   \n",
       "4               N                1               0               0   \n",
       "\n",
       "  policy_csl_100/300 policy_csl_250/500 policy_csl_500/1000  \n",
       "0                  0                  1                   0  \n",
       "1                  0                  1                   0  \n",
       "2                  1                  0                   0  \n",
       "3                  0                  1                   0  \n",
       "4                  0                  0                   1  \n",
       "\n",
       "[5 rows x 43 columns]"
      ]
     },
     "execution_count": 28,
     "metadata": {},
     "output_type": "execute_result"
    }
   ],
   "source": [
    "data1.head()"
   ]
  },
  {
   "cell_type": "code",
   "execution_count": 29,
   "id": "316b98d4",
   "metadata": {},
   "outputs": [
    {
     "name": "stdout",
     "output_type": "stream",
     "text": [
      "<class 'pandas.core.frame.DataFrame'>\n",
      "RangeIndex: 1000 entries, 0 to 999\n",
      "Data columns (total 43 columns):\n",
      " #   Column                       Non-Null Count  Dtype  \n",
      "---  ------                       --------------  -----  \n",
      " 0   months_as_customer           1000 non-null   int64  \n",
      " 1   age                          1000 non-null   int64  \n",
      " 2   policy_number                1000 non-null   int64  \n",
      " 3   policy_bind_date             1000 non-null   object \n",
      " 4   policy_deductable            1000 non-null   int64  \n",
      " 5   policy_annual_premium        1000 non-null   float64\n",
      " 6   umbrella_limit               1000 non-null   int64  \n",
      " 7   insured_zip                  1000 non-null   int64  \n",
      " 8   insured_sex                  1000 non-null   object \n",
      " 9   insured_education_level      1000 non-null   object \n",
      " 10  insured_occupation           1000 non-null   object \n",
      " 11  insured_hobbies              1000 non-null   object \n",
      " 12  insured_relationship         1000 non-null   object \n",
      " 13  capital-gains                1000 non-null   int64  \n",
      " 14  capital-loss                 1000 non-null   int64  \n",
      " 15  incident_date                1000 non-null   object \n",
      " 16  incident_type                1000 non-null   object \n",
      " 17  collision_type               1000 non-null   object \n",
      " 18  incident_severity            1000 non-null   object \n",
      " 19  authorities_contacted        1000 non-null   object \n",
      " 20  incident_state               1000 non-null   object \n",
      " 21  incident_city                1000 non-null   object \n",
      " 22  incident_location            1000 non-null   object \n",
      " 23  incident_hour_of_the_day     1000 non-null   int64  \n",
      " 24  number_of_vehicles_involved  1000 non-null   int64  \n",
      " 25  property_damage              1000 non-null   object \n",
      " 26  bodily_injuries              1000 non-null   int64  \n",
      " 27  witnesses                    1000 non-null   int64  \n",
      " 28  police_report_available      1000 non-null   object \n",
      " 29  total_claim_amount           1000 non-null   int64  \n",
      " 30  injury_claim                 1000 non-null   int64  \n",
      " 31  property_claim               1000 non-null   int64  \n",
      " 32  vehicle_claim                1000 non-null   int64  \n",
      " 33  auto_make                    1000 non-null   object \n",
      " 34  auto_model                   1000 non-null   object \n",
      " 35  auto_year                    1000 non-null   int64  \n",
      " 36  fraud_reported               1000 non-null   object \n",
      " 37  policy_state_IL              1000 non-null   uint8  \n",
      " 38  policy_state_IN              1000 non-null   uint8  \n",
      " 39  policy_state_OH              1000 non-null   uint8  \n",
      " 40  policy_csl_100/300           1000 non-null   uint8  \n",
      " 41  policy_csl_250/500           1000 non-null   uint8  \n",
      " 42  policy_csl_500/1000          1000 non-null   uint8  \n",
      "dtypes: float64(1), int64(17), object(19), uint8(6)\n",
      "memory usage: 295.0+ KB\n"
     ]
    }
   ],
   "source": [
    "data1.info()"
   ]
  },
  {
   "cell_type": "code",
   "execution_count": 35,
   "id": "34200f83",
   "metadata": {},
   "outputs": [
    {
     "data": {
      "text/plain": [
       "array(['MALE', 'FEMALE'], dtype=object)"
      ]
     },
     "execution_count": 35,
     "metadata": {},
     "output_type": "execute_result"
    }
   ],
   "source": [
    "data.insured_sex.unique()"
   ]
  },
  {
   "cell_type": "code",
   "execution_count": 36,
   "id": "691efc90",
   "metadata": {},
   "outputs": [],
   "source": [
    "# insured_sex column male=1,female=0\n",
    "data1['insured_sex'].replace({'MALE':1, 'FEMALE':0}, inplace=True)\n"
   ]
  },
  {
   "cell_type": "code",
   "execution_count": 40,
   "id": "4285fc59",
   "metadata": {},
   "outputs": [
    {
     "data": {
      "text/plain": [
       "array([1, 0], dtype=int64)"
      ]
     },
     "execution_count": 40,
     "metadata": {},
     "output_type": "execute_result"
    }
   ],
   "source": [
    "data1.fraud_reported.unique()"
   ]
  },
  {
   "cell_type": "code",
   "execution_count": 39,
   "id": "891bd659",
   "metadata": {},
   "outputs": [],
   "source": [
    "# fraud_reported column Y=1,N=0\n",
    "data1['fraud_reported'].replace({'Y':1, 'N':0}, inplace=True)"
   ]
  },
  {
   "cell_type": "code",
   "execution_count": 41,
   "id": "e2c67bc1",
   "metadata": {},
   "outputs": [
    {
     "data": {
      "text/plain": [
       "array(['92x', 'E400', 'RAM', 'Tahoe', 'RSX', '95', 'Pathfinder', 'A5',\n",
       "       'Camry', 'F150', 'A3', 'Highlander', 'Neon', 'MDX', 'Maxima',\n",
       "       'Legacy', 'TL', 'Impreza', 'Forrestor', 'Escape', 'Corolla',\n",
       "       '3 Series', 'C300', 'Wrangler', 'M5', 'X5', 'Civic', 'Passat',\n",
       "       'Silverado', 'CRV', '93', 'Accord', 'X6', 'Malibu', 'Fusion',\n",
       "       'Jetta', 'ML350', 'Ultima', 'Grand Cherokee'], dtype=object)"
      ]
     },
     "execution_count": 41,
     "metadata": {},
     "output_type": "execute_result"
    }
   ],
   "source": [
    "data1.auto_model.unique()"
   ]
  },
  {
   "cell_type": "code",
   "execution_count": 45,
   "id": "df868d74",
   "metadata": {},
   "outputs": [],
   "source": [
    "# As per my analysis this auto_model column has no any effect on fraud detcetion so i am droping this column\n",
    "data1.drop('auto_model',axis=1,inplace=True)"
   ]
  },
  {
   "cell_type": "code",
   "execution_count": 46,
   "id": "ed38f294",
   "metadata": {},
   "outputs": [
    {
     "name": "stdout",
     "output_type": "stream",
     "text": [
      "<class 'pandas.core.frame.DataFrame'>\n",
      "RangeIndex: 1000 entries, 0 to 999\n",
      "Data columns (total 42 columns):\n",
      " #   Column                       Non-Null Count  Dtype  \n",
      "---  ------                       --------------  -----  \n",
      " 0   months_as_customer           1000 non-null   int64  \n",
      " 1   age                          1000 non-null   int64  \n",
      " 2   policy_number                1000 non-null   int64  \n",
      " 3   policy_bind_date             1000 non-null   object \n",
      " 4   policy_deductable            1000 non-null   int64  \n",
      " 5   policy_annual_premium        1000 non-null   float64\n",
      " 6   umbrella_limit               1000 non-null   int64  \n",
      " 7   insured_zip                  1000 non-null   int64  \n",
      " 8   insured_sex                  1000 non-null   int64  \n",
      " 9   insured_education_level      1000 non-null   object \n",
      " 10  insured_occupation           1000 non-null   object \n",
      " 11  insured_hobbies              1000 non-null   object \n",
      " 12  insured_relationship         1000 non-null   object \n",
      " 13  capital-gains                1000 non-null   int64  \n",
      " 14  capital-loss                 1000 non-null   int64  \n",
      " 15  incident_date                1000 non-null   object \n",
      " 16  incident_type                1000 non-null   object \n",
      " 17  collision_type               1000 non-null   object \n",
      " 18  incident_severity            1000 non-null   object \n",
      " 19  authorities_contacted        1000 non-null   object \n",
      " 20  incident_state               1000 non-null   object \n",
      " 21  incident_city                1000 non-null   object \n",
      " 22  incident_location            1000 non-null   object \n",
      " 23  incident_hour_of_the_day     1000 non-null   int64  \n",
      " 24  number_of_vehicles_involved  1000 non-null   int64  \n",
      " 25  property_damage              1000 non-null   object \n",
      " 26  bodily_injuries              1000 non-null   int64  \n",
      " 27  witnesses                    1000 non-null   int64  \n",
      " 28  police_report_available      1000 non-null   object \n",
      " 29  total_claim_amount           1000 non-null   int64  \n",
      " 30  injury_claim                 1000 non-null   int64  \n",
      " 31  property_claim               1000 non-null   int64  \n",
      " 32  vehicle_claim                1000 non-null   int64  \n",
      " 33  auto_make                    1000 non-null   object \n",
      " 34  auto_year                    1000 non-null   int64  \n",
      " 35  fraud_reported               1000 non-null   int64  \n",
      " 36  policy_state_IL              1000 non-null   uint8  \n",
      " 37  policy_state_IN              1000 non-null   uint8  \n",
      " 38  policy_state_OH              1000 non-null   uint8  \n",
      " 39  policy_csl_100/300           1000 non-null   uint8  \n",
      " 40  policy_csl_250/500           1000 non-null   uint8  \n",
      " 41  policy_csl_500/1000          1000 non-null   uint8  \n",
      "dtypes: float64(1), int64(19), object(16), uint8(6)\n",
      "memory usage: 287.2+ KB\n"
     ]
    }
   ],
   "source": [
    "data1.info()"
   ]
  },
  {
   "cell_type": "code",
   "execution_count": 47,
   "id": "434b8c55",
   "metadata": {},
   "outputs": [
    {
     "data": {
      "text/plain": [
       "array(['Saab', 'Mercedes', 'Dodge', 'Chevrolet', 'Accura', 'Nissan',\n",
       "       'Audi', 'Toyota', 'Ford', 'Suburu', 'BMW', 'Jeep', 'Honda',\n",
       "       'Volkswagen'], dtype=object)"
      ]
     },
     "execution_count": 47,
     "metadata": {},
     "output_type": "execute_result"
    }
   ],
   "source": [
    " data1.auto_make.unique()\n",
    "    \n",
    "    \n",
    "    ## auto make column consist a car company name which makes no sense on insurance fraud so i am droping it "
   ]
  },
  {
   "cell_type": "code",
   "execution_count": 54,
   "id": "f6c0046e",
   "metadata": {},
   "outputs": [
    {
     "data": {
      "text/plain": [
       "array(['YES', '?', 'NO'], dtype=object)"
      ]
     },
     "execution_count": 54,
     "metadata": {},
     "output_type": "execute_result"
    }
   ],
   "source": [
    " data1.police_report_available.unique()"
   ]
  },
  {
   "cell_type": "code",
   "execution_count": 55,
   "id": "f816313b",
   "metadata": {},
   "outputs": [
    {
     "data": {
      "text/plain": [
       "?      343\n",
       "NO     343\n",
       "YES    314\n",
       "Name: police_report_available, dtype: int64"
      ]
     },
     "execution_count": 55,
     "metadata": {},
     "output_type": "execute_result"
    }
   ],
   "source": [
    " data1['police_report_available'].value_counts()"
   ]
  },
  {
   "cell_type": "code",
   "execution_count": 56,
   "id": "9f6280f1",
   "metadata": {},
   "outputs": [],
   "source": [
    "data1['police_report_available'].replace({'NO':1, 'YES':0,'?':2}, inplace=True)"
   ]
  },
  {
   "cell_type": "code",
   "execution_count": 58,
   "id": "4d6d0ed1",
   "metadata": {},
   "outputs": [
    {
     "data": {
      "text/plain": [
       "?      360\n",
       "NO     338\n",
       "YES    302\n",
       "Name: property_damage, dtype: int64"
      ]
     },
     "execution_count": 58,
     "metadata": {},
     "output_type": "execute_result"
    }
   ],
   "source": [
    " data1['property_damage'].value_counts()"
   ]
  },
  {
   "cell_type": "code",
   "execution_count": 59,
   "id": "32600ec7",
   "metadata": {},
   "outputs": [],
   "source": [
    "data1['property_damage'].replace({'NO':1, 'YES':0,'?':2}, inplace=True)"
   ]
  },
  {
   "cell_type": "code",
   "execution_count": 60,
   "id": "679f0eac",
   "metadata": {},
   "outputs": [
    {
     "name": "stdout",
     "output_type": "stream",
     "text": [
      "<class 'pandas.core.frame.DataFrame'>\n",
      "RangeIndex: 1000 entries, 0 to 999\n",
      "Data columns (total 42 columns):\n",
      " #   Column                       Non-Null Count  Dtype  \n",
      "---  ------                       --------------  -----  \n",
      " 0   months_as_customer           1000 non-null   int64  \n",
      " 1   age                          1000 non-null   int64  \n",
      " 2   policy_number                1000 non-null   int64  \n",
      " 3   policy_bind_date             1000 non-null   object \n",
      " 4   policy_deductable            1000 non-null   int64  \n",
      " 5   policy_annual_premium        1000 non-null   float64\n",
      " 6   umbrella_limit               1000 non-null   int64  \n",
      " 7   insured_zip                  1000 non-null   int64  \n",
      " 8   insured_sex                  1000 non-null   int64  \n",
      " 9   insured_education_level      1000 non-null   object \n",
      " 10  insured_occupation           1000 non-null   object \n",
      " 11  insured_hobbies              1000 non-null   object \n",
      " 12  insured_relationship         1000 non-null   object \n",
      " 13  capital-gains                1000 non-null   int64  \n",
      " 14  capital-loss                 1000 non-null   int64  \n",
      " 15  incident_date                1000 non-null   object \n",
      " 16  incident_type                1000 non-null   object \n",
      " 17  collision_type               1000 non-null   object \n",
      " 18  incident_severity            1000 non-null   object \n",
      " 19  authorities_contacted        1000 non-null   object \n",
      " 20  incident_state               1000 non-null   object \n",
      " 21  incident_city                1000 non-null   object \n",
      " 22  incident_location            1000 non-null   object \n",
      " 23  incident_hour_of_the_day     1000 non-null   int64  \n",
      " 24  number_of_vehicles_involved  1000 non-null   int64  \n",
      " 25  property_damage              1000 non-null   int64  \n",
      " 26  bodily_injuries              1000 non-null   int64  \n",
      " 27  witnesses                    1000 non-null   int64  \n",
      " 28  police_report_available      1000 non-null   int64  \n",
      " 29  total_claim_amount           1000 non-null   int64  \n",
      " 30  injury_claim                 1000 non-null   int64  \n",
      " 31  property_claim               1000 non-null   int64  \n",
      " 32  vehicle_claim                1000 non-null   int64  \n",
      " 33  auto_make                    1000 non-null   object \n",
      " 34  auto_year                    1000 non-null   int64  \n",
      " 35  fraud_reported               1000 non-null   int64  \n",
      " 36  policy_state_IL              1000 non-null   uint8  \n",
      " 37  policy_state_IN              1000 non-null   uint8  \n",
      " 38  policy_state_OH              1000 non-null   uint8  \n",
      " 39  policy_csl_100/300           1000 non-null   uint8  \n",
      " 40  policy_csl_250/500           1000 non-null   uint8  \n",
      " 41  policy_csl_500/1000          1000 non-null   uint8  \n",
      "dtypes: float64(1), int64(21), object(14), uint8(6)\n",
      "memory usage: 287.2+ KB\n"
     ]
    }
   ],
   "source": [
    "data1.info()"
   ]
  },
  {
   "cell_type": "code",
   "execution_count": 61,
   "id": "e823cfdd",
   "metadata": {},
   "outputs": [],
   "source": [
    "data1.drop('auto_make',axis=1,inplace=True)"
   ]
  },
  {
   "cell_type": "code",
   "execution_count": 62,
   "id": "d386de60",
   "metadata": {},
   "outputs": [
    {
     "data": {
      "text/plain": [
       "Multi-vehicle Collision     419\n",
       "Single Vehicle Collision    403\n",
       "Vehicle Theft                94\n",
       "Parked Car                   84\n",
       "Name: incident_type, dtype: int64"
      ]
     },
     "execution_count": 62,
     "metadata": {},
     "output_type": "execute_result"
    }
   ],
   "source": [
    " data1['incident_type'].value_counts()"
   ]
  },
  {
   "cell_type": "code",
   "execution_count": 63,
   "id": "7b80c64e",
   "metadata": {},
   "outputs": [
    {
     "data": {
      "text/plain": [
       "Rear Collision     292\n",
       "Side Collision     276\n",
       "Front Collision    254\n",
       "?                  178\n",
       "Name: collision_type, dtype: int64"
      ]
     },
     "execution_count": 63,
     "metadata": {},
     "output_type": "execute_result"
    }
   ],
   "source": [
    " data1['collision_type'].value_counts()"
   ]
  },
  {
   "cell_type": "code",
   "execution_count": 69,
   "id": "34ff23e5",
   "metadata": {},
   "outputs": [],
   "source": [
    "  # in this column we can used ranking based \n",
    "    #data1['incident_severity'].value_counts()\n",
    "data1['incident_severity'].replace({'Minor Damage':0, 'Trivial Damage':1,'Major Damage':2,'Total Loss':3},inplace=True)"
   ]
  },
  {
   "cell_type": "code",
   "execution_count": 70,
   "id": "0debbabd",
   "metadata": {},
   "outputs": [
    {
     "data": {
      "text/plain": [
       "Police       292\n",
       "Fire         223\n",
       "Other        198\n",
       "Ambulance    196\n",
       "None          91\n",
       "Name: authorities_contacted, dtype: int64"
      ]
     },
     "execution_count": 70,
     "metadata": {},
     "output_type": "execute_result"
    }
   ],
   "source": [
    "  data1['authorities_contacted'].value_counts()"
   ]
  },
  {
   "cell_type": "code",
   "execution_count": 73,
   "id": "71667565",
   "metadata": {},
   "outputs": [
    {
     "data": {
      "text/plain": [
       "NY    262\n",
       "SC    248\n",
       "WV    217\n",
       "VA    110\n",
       "NC    110\n",
       "PA     30\n",
       "OH     23\n",
       "Name: incident_state, dtype: int64"
      ]
     },
     "execution_count": 73,
     "metadata": {},
     "output_type": "execute_result"
    }
   ],
   "source": [
    " data1['incident_state'].value_counts() "
   ]
  },
  {
   "cell_type": "code",
   "execution_count": 74,
   "id": "2ae80e80",
   "metadata": {},
   "outputs": [
    {
     "data": {
      "text/plain": [
       "Springfield    157\n",
       "Arlington      152\n",
       "Columbus       149\n",
       "Northbend      145\n",
       "Hillsdale      141\n",
       "Riverwood      134\n",
       "Northbrook     122\n",
       "Name: incident_city, dtype: int64"
      ]
     },
     "execution_count": 74,
     "metadata": {},
     "output_type": "execute_result"
    }
   ],
   "source": [
    "  data1['incident_city'].value_counts() "
   ]
  },
  {
   "cell_type": "code",
   "execution_count": 75,
   "id": "8158752d",
   "metadata": {},
   "outputs": [
    {
     "data": {
      "text/plain": [
       "9935 4th Drive         1\n",
       "4214 MLK Ridge         1\n",
       "8548 Cherokee Ridge    1\n",
       "2352 MLK Drive         1\n",
       "9734 2nd Ridge         1\n",
       "                      ..\n",
       "6770 1st St            1\n",
       "4119 Texas St          1\n",
       "4347 2nd Ridge         1\n",
       "1091 1st Drive         1\n",
       "1416 Cherokee Ridge    1\n",
       "Name: incident_location, Length: 1000, dtype: int64"
      ]
     },
     "execution_count": 75,
     "metadata": {},
     "output_type": "execute_result"
    }
   ],
   "source": [
    " data1['incident_location'].value_counts() "
   ]
  },
  {
   "cell_type": "code",
   "execution_count": 79,
   "id": "b8a1fe31",
   "metadata": {},
   "outputs": [],
   "source": [
    "## For evaluted column i am using one hot encoding\n",
    "data1 = pd.get_dummies(data1, columns = ['incident_city','incident_state','authorities_contacted'])"
   ]
  },
  {
   "cell_type": "code",
   "execution_count": 80,
   "id": "32868dfc",
   "metadata": {},
   "outputs": [],
   "source": [
    "data1 = pd.get_dummies(data, columns = ['incident_type'])"
   ]
  },
  {
   "cell_type": "code",
   "execution_count": 81,
   "id": "63ff25f2",
   "metadata": {},
   "outputs": [
    {
     "name": "stdout",
     "output_type": "stream",
     "text": [
      "<class 'pandas.core.frame.DataFrame'>\n",
      "RangeIndex: 1000 entries, 0 to 999\n",
      "Data columns (total 41 columns):\n",
      " #   Column                                  Non-Null Count  Dtype  \n",
      "---  ------                                  --------------  -----  \n",
      " 0   months_as_customer                      1000 non-null   int64  \n",
      " 1   age                                     1000 non-null   int64  \n",
      " 2   policy_number                           1000 non-null   int64  \n",
      " 3   policy_bind_date                        1000 non-null   object \n",
      " 4   policy_state                            1000 non-null   object \n",
      " 5   policy_csl                              1000 non-null   object \n",
      " 6   policy_deductable                       1000 non-null   int64  \n",
      " 7   policy_annual_premium                   1000 non-null   float64\n",
      " 8   umbrella_limit                          1000 non-null   int64  \n",
      " 9   insured_zip                             1000 non-null   int64  \n",
      " 10  insured_sex                             1000 non-null   object \n",
      " 11  insured_education_level                 1000 non-null   object \n",
      " 12  insured_occupation                      1000 non-null   object \n",
      " 13  insured_hobbies                         1000 non-null   object \n",
      " 14  insured_relationship                    1000 non-null   object \n",
      " 15  capital-gains                           1000 non-null   int64  \n",
      " 16  capital-loss                            1000 non-null   int64  \n",
      " 17  incident_date                           1000 non-null   object \n",
      " 18  collision_type                          1000 non-null   object \n",
      " 19  incident_severity                       1000 non-null   object \n",
      " 20  authorities_contacted                   1000 non-null   object \n",
      " 21  incident_state                          1000 non-null   object \n",
      " 22  incident_city                           1000 non-null   object \n",
      " 23  incident_location                       1000 non-null   object \n",
      " 24  incident_hour_of_the_day                1000 non-null   int64  \n",
      " 25  number_of_vehicles_involved             1000 non-null   int64  \n",
      " 26  property_damage                         1000 non-null   object \n",
      " 27  bodily_injuries                         1000 non-null   int64  \n",
      " 28  witnesses                               1000 non-null   int64  \n",
      " 29  police_report_available                 1000 non-null   object \n",
      " 30  total_claim_amount                      1000 non-null   int64  \n",
      " 31  injury_claim                            1000 non-null   int64  \n",
      " 32  property_claim                          1000 non-null   int64  \n",
      " 33  vehicle_claim                           1000 non-null   int64  \n",
      " 34  auto_make                               1000 non-null   object \n",
      " 35  auto_year                               1000 non-null   int64  \n",
      " 36  fraud_reported                          1000 non-null   object \n",
      " 37  incident_type_Multi-vehicle Collision   1000 non-null   uint8  \n",
      " 38  incident_type_Parked Car                1000 non-null   uint8  \n",
      " 39  incident_type_Single Vehicle Collision  1000 non-null   uint8  \n",
      " 40  incident_type_Vehicle Theft             1000 non-null   uint8  \n",
      "dtypes: float64(1), int64(17), object(19), uint8(4)\n",
      "memory usage: 293.1+ KB\n"
     ]
    }
   ],
   "source": [
    "data1.info()"
   ]
  },
  {
   "cell_type": "code",
   "execution_count": 82,
   "id": "55f672b7",
   "metadata": {},
   "outputs": [],
   "source": [
    "## Nowing we are doing this on new data for clear confusion\n",
    "d=pd.read_csv(\"insurance_claims.csv\")"
   ]
  },
  {
   "cell_type": "code",
   "execution_count": 83,
   "id": "ab0cd79f",
   "metadata": {},
   "outputs": [],
   "source": [
    "d.drop('_c39',axis=1,inplace=True)\n",
    "d= pd.get_dummies(d, columns = ['policy_state', 'policy_csl'])\n",
    "d['insured_sex'].replace({'MALE':1, 'FEMALE':0}, inplace=True)\n",
    "d['fraud_reported'].replace({'Y':1, 'N':0}, inplace=True)\n",
    "d.drop('auto_model',axis=1,inplace=True)\n",
    "d['police_report_available'].replace({'NO':1, 'YES':0,'?':2}, inplace=True)\n",
    "d['property_damage'].replace({'NO':1, 'YES':0,'?':2}, inplace=True)\n",
    "d.drop('auto_make',axis=1,inplace=True)"
   ]
  },
  {
   "cell_type": "code",
   "execution_count": 84,
   "id": "10399697",
   "metadata": {},
   "outputs": [],
   "source": [
    "d['incident_severity'].replace({'Minor Damage':0, 'Trivial Damage':1,'Major Damage':2,'Total Loss':3},inplace=True)"
   ]
  },
  {
   "cell_type": "code",
   "execution_count": 85,
   "id": "4dd7db89",
   "metadata": {},
   "outputs": [],
   "source": [
    "d = pd.get_dummies(d, columns = ['incident_city','incident_state','authorities_contacted','incident_type'])"
   ]
  },
  {
   "cell_type": "code",
   "execution_count": 86,
   "id": "3e4a95fc",
   "metadata": {},
   "outputs": [
    {
     "name": "stdout",
     "output_type": "stream",
     "text": [
      "<class 'pandas.core.frame.DataFrame'>\n",
      "RangeIndex: 1000 entries, 0 to 999\n",
      "Data columns (total 60 columns):\n",
      " #   Column                                  Non-Null Count  Dtype  \n",
      "---  ------                                  --------------  -----  \n",
      " 0   months_as_customer                      1000 non-null   int64  \n",
      " 1   age                                     1000 non-null   int64  \n",
      " 2   policy_number                           1000 non-null   int64  \n",
      " 3   policy_bind_date                        1000 non-null   object \n",
      " 4   policy_deductable                       1000 non-null   int64  \n",
      " 5   policy_annual_premium                   1000 non-null   float64\n",
      " 6   umbrella_limit                          1000 non-null   int64  \n",
      " 7   insured_zip                             1000 non-null   int64  \n",
      " 8   insured_sex                             1000 non-null   int64  \n",
      " 9   insured_education_level                 1000 non-null   object \n",
      " 10  insured_occupation                      1000 non-null   object \n",
      " 11  insured_hobbies                         1000 non-null   object \n",
      " 12  insured_relationship                    1000 non-null   object \n",
      " 13  capital-gains                           1000 non-null   int64  \n",
      " 14  capital-loss                            1000 non-null   int64  \n",
      " 15  incident_date                           1000 non-null   object \n",
      " 16  collision_type                          1000 non-null   object \n",
      " 17  incident_severity                       1000 non-null   int64  \n",
      " 18  incident_location                       1000 non-null   object \n",
      " 19  incident_hour_of_the_day                1000 non-null   int64  \n",
      " 20  number_of_vehicles_involved             1000 non-null   int64  \n",
      " 21  property_damage                         1000 non-null   int64  \n",
      " 22  bodily_injuries                         1000 non-null   int64  \n",
      " 23  witnesses                               1000 non-null   int64  \n",
      " 24  police_report_available                 1000 non-null   int64  \n",
      " 25  total_claim_amount                      1000 non-null   int64  \n",
      " 26  injury_claim                            1000 non-null   int64  \n",
      " 27  property_claim                          1000 non-null   int64  \n",
      " 28  vehicle_claim                           1000 non-null   int64  \n",
      " 29  auto_year                               1000 non-null   int64  \n",
      " 30  fraud_reported                          1000 non-null   int64  \n",
      " 31  policy_state_IL                         1000 non-null   uint8  \n",
      " 32  policy_state_IN                         1000 non-null   uint8  \n",
      " 33  policy_state_OH                         1000 non-null   uint8  \n",
      " 34  policy_csl_100/300                      1000 non-null   uint8  \n",
      " 35  policy_csl_250/500                      1000 non-null   uint8  \n",
      " 36  policy_csl_500/1000                     1000 non-null   uint8  \n",
      " 37  incident_city_Arlington                 1000 non-null   uint8  \n",
      " 38  incident_city_Columbus                  1000 non-null   uint8  \n",
      " 39  incident_city_Hillsdale                 1000 non-null   uint8  \n",
      " 40  incident_city_Northbend                 1000 non-null   uint8  \n",
      " 41  incident_city_Northbrook                1000 non-null   uint8  \n",
      " 42  incident_city_Riverwood                 1000 non-null   uint8  \n",
      " 43  incident_city_Springfield               1000 non-null   uint8  \n",
      " 44  incident_state_NC                       1000 non-null   uint8  \n",
      " 45  incident_state_NY                       1000 non-null   uint8  \n",
      " 46  incident_state_OH                       1000 non-null   uint8  \n",
      " 47  incident_state_PA                       1000 non-null   uint8  \n",
      " 48  incident_state_SC                       1000 non-null   uint8  \n",
      " 49  incident_state_VA                       1000 non-null   uint8  \n",
      " 50  incident_state_WV                       1000 non-null   uint8  \n",
      " 51  authorities_contacted_Ambulance         1000 non-null   uint8  \n",
      " 52  authorities_contacted_Fire              1000 non-null   uint8  \n",
      " 53  authorities_contacted_None              1000 non-null   uint8  \n",
      " 54  authorities_contacted_Other             1000 non-null   uint8  \n",
      " 55  authorities_contacted_Police            1000 non-null   uint8  \n",
      " 56  incident_type_Multi-vehicle Collision   1000 non-null   uint8  \n",
      " 57  incident_type_Parked Car                1000 non-null   uint8  \n",
      " 58  incident_type_Single Vehicle Collision  1000 non-null   uint8  \n",
      " 59  incident_type_Vehicle Theft             1000 non-null   uint8  \n",
      "dtypes: float64(1), int64(22), object(8), uint8(29)\n",
      "memory usage: 270.6+ KB\n"
     ]
    }
   ],
   "source": [
    "d.info()"
   ]
  },
  {
   "cell_type": "code",
   "execution_count": 88,
   "id": "f898a672",
   "metadata": {},
   "outputs": [],
   "source": [
    "d = pd.get_dummies(d, columns = ['collision_type'])"
   ]
  },
  {
   "cell_type": "code",
   "execution_count": 98,
   "id": "0bc4b50c",
   "metadata": {},
   "outputs": [
    {
     "data": {
      "text/plain": [
       "array(['9935 4th Drive', '6608 MLK Hwy', '7121 Francis Lane',\n",
       "       '6956 Maple Drive', '3041 3rd Ave', '8973 Washington St',\n",
       "       '5846 Weaver Drive', '3525 3rd Hwy', '4872 Rock Ridge',\n",
       "       '3066 Francis Ave', '1558 1st Ridge', '5971 5th Hwy',\n",
       "       '6655 5th Drive', '6582 Elm Lane', '6851 3rd Drive',\n",
       "       '9573 Weaver Ave', '5074 3rd St', '4546 Tree St',\n",
       "       '3842 Solo Ridge', '8101 3rd Ridge', '5380 Pine St',\n",
       "       '8957 Weaver Drive', '2526 Embaracadero Ave', '5667 4th Drive',\n",
       "       '2502 Apache Hwy', '3418 Texas Lane', '2533 Elm St',\n",
       "       '3790 Andromedia Hwy', '3220 Rock Drive', '2100 Francis Drive',\n",
       "       '4687 5th Drive', '9038 2nd Lane', '6092 5th Ave',\n",
       "       '8353 Britain Ridge', '3540 Maple St', '3104 Sky Drive',\n",
       "       '4981 Weaver St', '6676 Tree Lane', '3930 Embaracadero St',\n",
       "       '3422 Flute St', '4862 Lincoln Hwy', '5719 2nd Lane',\n",
       "       '3221 Solo Ridge', '6660 MLK Drive', '1699 Oak Drive',\n",
       "       '4234 Cherokee Lane', '7476 4th St', '8907 Tree Ave',\n",
       "       '6619 Flute Ave', '6011 Britain St', '5104 Francis Drive',\n",
       "       '2280 4th Ave', '2644 Elm Drive', '7466 MLK Ridge', '5821 2nd St',\n",
       "       '6723 Best Drive', '4866 4th Hwy', '5418 Britain Ave',\n",
       "       '4296 Pine Hwy', '2299 1st St', '6618 Cherokee Drive',\n",
       "       '7459 Flute St', '3567 4th Drive', '2457 Washington Ave',\n",
       "       '1269 Flute Drive', '1218 Sky Hwy', '9169 Pine Ridge',\n",
       "       '8538 Texas Lane', '5783 Oak Ave', '7721 Washington Ridge',\n",
       "       '8006 Maple Hwy', '6751 Pine Ridge', '2324 Texas Ridge',\n",
       "       '7923 Elm Ave', '4755 Best Lane', '5053 Tree Drive',\n",
       "       '2078 3rd Ave', '2804 Best St', '7877 Sky Lane', '6530 Weaver Ave',\n",
       "       '3087 Oak Hwy', '7098 Lincoln Hwy', '5124 Maple St',\n",
       "       '2333 Maple Lane', '1012 5th Lane', '7477 MLK Drive',\n",
       "       '9489 3rd St', '2087 Apache Ave', '5540 Sky St', '7238 2nd St',\n",
       "       '8442 Britain Hwy', '1331 Britain Hwy', '5260 Francis Drive',\n",
       "       '1135 Solo Lane', '9737 Solo Hwy', '3289 Britain Drive',\n",
       "       '6550 Andromedia St', '1679 2nd Hwy', '3998 Flute St',\n",
       "       '2430 MLK Ave', '7717 Britain Hwy', '7773 Tree Hwy',\n",
       "       '2199 Texas Drive', '1028 Sky Lane', '4154 Lincoln Hwy',\n",
       "       '8085 Andromedia St', '4793 4th Ridge', '7428 Sky Hwy',\n",
       "       '2306 5th Lane', '3052 Weaver Ridge', '5211 Weaver Drive',\n",
       "       '7253 MLK St', '1454 5th Ridge', '5622 Best Ridge',\n",
       "       '4574 Britain Hwy', '4539 Texas St', '8118 Elm Ridge',\n",
       "       '3814 Britain Drive', '4614 MLK Ave', '1628 Best Drive',\n",
       "       '8381 Solo Hwy', '2100 MLK St', '5071 Flute Ridge',\n",
       "       '7551 Britain Lane', '2275 Best Lane', '1598 3rd Drive',\n",
       "       '7740 MLK St', '1240 Tree Lane', '8983 Francis Ridge',\n",
       "       '7756 Solo Drive', '9034 Weaver Ridge', '1126 Texas Hwy',\n",
       "       '2808 Elm St', '5061 Francis Ave', '4965 MLK Drive',\n",
       "       '8668 Flute St', '2577 Washington Drive', '7709 Rock Lane',\n",
       "       '9358 Texas Ridge', '8080 Oak Lane', '6408 Weaver Ridge',\n",
       "       '5532 Weaver Ridge', '9101 2nd Hwy', '8576 Andromedia St',\n",
       "       '6315 2nd Lane', '1536 Flute Drive', '4672 MLK St',\n",
       "       '2204 Washington Lane', '9484 Pine Drive', '5431 3rd Ridge',\n",
       "       '7121 Britain Drive', '8586 1st Ridge', '7582 Pine Drive',\n",
       "       '1388 Embaracadero Hwy', '5621 4th Ave', '8150 Washington Ridge',\n",
       "       '4268 2nd Ave', '6375 2nd Lane', '3770 Flute Drive',\n",
       "       '1562 Britain St', '1681 Cherokee Hwy', '7523 Oak Lane',\n",
       "       '1815 Cherokee Drive', '9316 Pine Ave', '2733 Texas Drive',\n",
       "       '7684 Francis Ridge', '8991 Embaracadero Ave', '4905 Francis Ave',\n",
       "       '7783 Lincoln Hwy', '8749 Tree St', '4985 Sky Lane',\n",
       "       '7534 MLK Hwy', '8689 Maple Hwy', '9153 3rd Hwy', '5904 1st Drive',\n",
       "       '4519 Embaracadero St', '9706 MLK Lane', '6012 Texas Hwy',\n",
       "       '4098 Weaver Ridge', '6193 1st Hwy', '4053 Sky Lane',\n",
       "       '8964 Francis St', '9748 Sky Drive', '2293 Washington Ave',\n",
       "       '3656 Solo Ave', '8579 Apache Drive', '2003 Maple Hwy',\n",
       "       '5445 Tree Hwy', '9730 2nd Hwy', '7819 Oak St', '1845 Best St',\n",
       "       '2500 Tree St', '6955 Pine Drive', '6165 Rock Ridge',\n",
       "       '3653 Elm Drive', '5812 3rd Hwy', '4939 Best St', '4964 Elm Lane',\n",
       "       '9588 Solo St', '8718 Apache Lane', '3590 Best Hwy',\n",
       "       '6149 Best Ridge', '4116 Embaracadero Lane', '3486 Flute Ave',\n",
       "       '5994 5th Ave', '9138 3rd St', '3743 Andromedia Ridge',\n",
       "       '7644 Tree Ridge', '3167 2nd St', '3327 Lincoln Drive',\n",
       "       '8621 Best Ridge', '3878 Tree Lane', '9760 Solo Lane',\n",
       "       '9138 1st St', '3414 Elm Ave', '3172 Tree Ridge', '6104 Oak Ave',\n",
       "       '9742 5th Ridge', '8782 3rd St', '9798 Sky Ridge',\n",
       "       '5483 Francis Drive', '2005 Texas Hwy', '6634 Texas Ridge',\n",
       "       '8655 Cherokee Lane', '4955 Lincoln Ridge', '7705 Best Ridge',\n",
       "       '5838 Pine Lane', '7331 Sky Hwy', '5640 Embaracadero Lane',\n",
       "       '9610 Cherokee St', '3550 Washington Ave', '5277 Texas Lane',\n",
       "       '3654 Cherokee Ave', '7380 5th Hwy', '2539 Embaracadero Ridge',\n",
       "       '4693 Lincoln Hwy', '2376 Sky Ridge', '1273 Rock Lane',\n",
       "       '8281 Lincoln Lane', '6429 4th Hwy', '2201 4th Lane',\n",
       "       '5506 Best St', '8404 Embaracadero St', '2117 Lincoln Hwy',\n",
       "       '6359 MLK Ridge', '9751 Sky Ridge', '9020 Elm Ave', '1830 Sky St',\n",
       "       '6067 Weaver Ridge', '1840 Embaracadero Ave', '4058 Tree Drive',\n",
       "       '4983 MLK Ridge', '9744 Texas Drive', '8821 Elm St',\n",
       "       '2886 Tree Ridge', '5236 Weaver Drive', '5862 Apache Ridge',\n",
       "       '7859 4th Ridge', '6259 Weaver St', '9980 Lincoln Ave',\n",
       "       '7828 Cherokee Ave', '5812 Oak St', '2318 Washington Hwy',\n",
       "       '8809 Flute St', '3184 Oak Ave', '6493 Lincoln Lane',\n",
       "       '7162 Maple Ave', '5455 Tree Ridge', '5778 Pine Ridge',\n",
       "       '3797 Solo Lane', '9373 Pine Hwy', '1365 Francis Ave',\n",
       "       '9239 Washington Ridge', '3416 Washington Drive', '1923 2nd Hwy',\n",
       "       '6451 1st Hwy', '1267 Francis Hwy', '4158 Washington Lane',\n",
       "       '3796 Cherokee Drive', '7434 Oak Hwy', '5178 Weaver Hwy',\n",
       "       '8477 Francis Hwy', '7693 Britain Lane', '3658 Rock Drive',\n",
       "       '2617 Andromedia Drive', '9279 Oak Hwy', '3439 Andromedia Hwy',\n",
       "       '5901 Elm Drive', '3982 Washington Hwy', '3376 5th Drive',\n",
       "       '3936 Tree Drive', '6605 Tree Ave', '3102 Apache St',\n",
       "       '7756 Pine Hwy', '7142 5th Lane', '2914 Oak Drive',\n",
       "       '6522 Apache Drive', '5279 Pine Ridge', '8078 Britain Hwy',\n",
       "       '1133 Apache St', '2873 Flute Ave', '8509 Apache St',\n",
       "       '8245 4th Hwy', '3094 Best Lane', '8188 Tree Ave', '5224 5th Lane',\n",
       "       '2230 1st St', '6719 Flute St', '8064 4th Ave',\n",
       "       '2469 Francis Lane', '4671 5th Ridge', '6985 Maple Lane',\n",
       "       '7791 Britain Ridge', '6355 4th Hwy', '3495 Britain Drive',\n",
       "       '2980 Sky Ridge', '5914 Oak Ave', '3835 5th Ave', '5925 Tree Hwy',\n",
       "       '6250 1st Ridge', '1346 5th Lane', '1128 Maple Lane',\n",
       "       '6309 Cherokee Ave', '4618 Flute Ave', '6191 Oak Lane',\n",
       "       '1316 Britain Ridge', '5924 Maple Drive', '8917 Tree Ridge',\n",
       "       '3966 Francis Ridge', '1507 Solo Ave', '4272 Oak Ridge',\n",
       "       '4434 Lincoln Ave', '7529 Solo Ridge', '8096 Apache Hwy',\n",
       "       '9417 Tree Hwy', '3809 Texas Lane', '1540 Apache Lane',\n",
       "       '2337 Lincoln Hwy', '6770 1st St', '4119 Texas St',\n",
       "       '4347 2nd Ridge', '1091 1st Drive', '8203 Lincoln Ave',\n",
       "       '9154 MLK Hwy', '5780 4th Ave', '6945 Texas Hwy', '5639 1st Ridge',\n",
       "       '3834 Pine St', '1358 Maple St', '7460 Apache Lane',\n",
       "       '5771 Sky Ave', '2865 Maple Lane', '8940 Elm Ave', '1215 Pine Hwy',\n",
       "       '6874 Maple Ridge', '8834 Elm Drive', '8542 Lincoln Ridge',\n",
       "       '9397 Francis St', '4907 Andromedia Drive', '4429 Washington St',\n",
       "       '2651 MLK Lane', '2942 1st Lane', '6317 Best St',\n",
       "       '1555 Washington Lane', '1919 4th Lane', '5480 3rd Ridge',\n",
       "       '8864 Tree Ridge', '2777 Solo Drive', '9929 Rock Drive',\n",
       "       '4143 Maple Ridge', '7121 Rock St', '9067 Texas Ave',\n",
       "       '9245 Weaver Ridge', '4585 Francis Ave', '6738 Francis Hwy',\n",
       "       '7576 Pine Ridge', '9105 Tree Lane', '2299 Britain Drive',\n",
       "       '1914 Francis St', '6658 Weaver St', '1985 5th Ave',\n",
       "       '1707 Sky Ave', '6456 Andromedia Drive', '5649 Texas Ave',\n",
       "       '1220 MLK Ave', '1589 Pine St', '8906 Elm Lane', '2654 Elm Drive',\n",
       "       '6681 Texas Ridge', '7782 Rock St', '9286 Oak Ave', '8758 5th St',\n",
       "       '7281 Maple Hwy', '7571 Elm Ridge', '6738 Washington Hwy',\n",
       "       '4188 Britain Ave', '6934 Lincoln Ave', '6390 Apache St',\n",
       "       '7615 Weaver Drive', '6409 Cherokee Drive', '1123 5th Lane',\n",
       "       '5168 5th Ave', '3697 Apache Drive', '1910 Sky Ave',\n",
       "       '8954 Apache Lane', '3110 Lincoln Lane', '6035 Rock Ave',\n",
       "       '2220 1st Lane', '4972 Francis Lane', '6957 Weaver Drive',\n",
       "       '1512 Rock Lane', '3693 Pine Ave', '9879 Apache Drive',\n",
       "       '2494 Andromedia Drive', '4615 Embaracadero Ave',\n",
       "       '1929 Britain Drive', '5051 Elm St', '9910 Maple Ave',\n",
       "       '5602 Britain St', '6889 Cherokee St', '3926 Rock Lane',\n",
       "       '6717 Best Drive', '6117 4th Ave', '2668 Cherokee St',\n",
       "       '6838 Flute Lane', '6583 MLK Ridge', '6492 4th Lane',\n",
       "       '7299 Apache St', '2756 Britain Hwy', '9360 3rd Drive',\n",
       "       '1655 Francis Hwy', '9720 Lincoln Hwy', '7066 Texas Ave',\n",
       "       '9728 Britain Hwy', '4486 Cherokee Ridge', '8021 Flute Ave',\n",
       "       '2774 Apache Drive', '2787 MLK St', '9847 Elm St',\n",
       "       '4629 Elm Ridge', '5585 Washington Drive', '3925 Sky St',\n",
       "       '3903 Oak Ave', '3805 Lincoln Hwy', '4055 2nd Drive',\n",
       "       '3707 Oak Ridge', '7327 Lincoln Drive', '9369 Flute Hwy',\n",
       "       '4239 Weaver Ave', '6044 Weaver Drive', '8879 1st Drive',\n",
       "       '9488 Best Drive', '7500 Texas Ridge', '2048 3rd Ridge',\n",
       "       '3419 Apache St', '9875 MLK Ave', '3553 Texas Ave', '4335 1st St',\n",
       "       '9070 Tree Ave', '3900 Texas St', '9657 5th Ave',\n",
       "       '5765 Washington St', '5997 Embaracadero Drive', '1738 Solo Lane',\n",
       "       '2903 Weaver Drive', '8926 Texas Ridge', '4231 3rd Ave',\n",
       "       '8049 4th St', '6501 5th Drive', '7909 Andromedia Hwy',\n",
       "       '5865 Sky Lane', '1957 Washington Ave', '7649 Texas St',\n",
       "       '1992 Britain Drive', '9685 Sky Ridge', '3457 Texas Lane',\n",
       "       '7693 Cherokee Lane', '3167 4th Ridge', '1617 Rock Drive',\n",
       "       '7877 3rd Ridge', '9325 Lincoln Drive', '5855 Apache St',\n",
       "       '1328 Texas Lane', '4567 Pine Ave', '7575 Pine St',\n",
       "       '2850 Washington St', '9169 Cherokee Hwy', '6443 Washington Ridge',\n",
       "       '6751 5th Hwy', '2289 Weaver Ridge', '8306 1st Drive',\n",
       "       '2603 Andromedia Hwy', '6479 Francis Ave', '6428 Andromedia Lane',\n",
       "       '9081 Cherokee Hwy', '1532 Washington St', '4625 MLK Drive',\n",
       "       '1529 Elm Ridge', '2086 Francis Drive', '9066 Best Ridge',\n",
       "       '7178 Best Drive', '9821 Francis Ave', '7061 Cherokee Drive',\n",
       "       '1325 1st Lane', '3769 Sky St', '8489 Pine Hwy', '6329 Apache Ave',\n",
       "       '9293 Pine Lane', '9224 Sky Drive', '8862 Maple Ridge',\n",
       "       '3492 Flute Lane', '6484 Tree Drive', '4554 Sky Ave',\n",
       "       '5201 Texas Hwy', '3982 Weaver Lane', '3660 Andromedia Hwy',\n",
       "       '7135 Flute Lane', '4414 Solo Drive', '2920 5th Ave',\n",
       "       '2986 MLK Drive', '1580 Maple Lane', '3706 Texas Hwy',\n",
       "       '9109 Britain Drive', '2290 4th Ave', '4232 Britain Ridge',\n",
       "       '6677 Andromedia Drive', '5868 Sky Hwy', '3053 Lincoln Drive',\n",
       "       '7041 Tree Ridge', '7223 Embaracadero St', '8081 Flute Ridge',\n",
       "       '8618 Texas Lane', '3508 Washington St', '2193 4th Ridge',\n",
       "       '8897 Sky St', '9611 Pine Ridge', '7825 1st Ridge', '3039 Oak Hwy',\n",
       "       '8204 Pine Lane', '9787 Andromedia Ave', '9633 Rock Hwy',\n",
       "       '6303 1st Drive', '2014 Rock Ave', '8983 Tree St', '6260 5th Lane',\n",
       "       '2725 Britain Ridge', '3089 Oak Ridge', '6206 3rd Ridge',\n",
       "       '7240 5th Ridge', '8100 3rd Ave', '3282 4th Lane',\n",
       "       '3227 Maple Ave', '4264 Lincoln Ridge', '2215 Best Ave',\n",
       "       '5363 Weaver Lane', '2397 Cherokee Ave', '9794 Embaracadero St',\n",
       "       '1810 Elm Hwy', '9603 Texas Lane', '5650 Sky Drive',\n",
       "       '9633 MLK Lane', '4981 Flute Hwy', '9078 Francis Ridge',\n",
       "       '1381 Francis Ave', '6435 Texas Ave', '1248 MLK Ridge',\n",
       "       '3323 1st Lane', '6971 Best Ridge', '7488 Lincoln Lane',\n",
       "       '9007 Francis Hwy', '1491 Francis Ridge', '3659 Oak Lane',\n",
       "       '4176 Britain Hwy', '5189 Francis Drive', '6515 Oak Lane',\n",
       "       '7168 Andromedia Ridge', '7954 Tree Ridge', '1956 Apache St',\n",
       "       '9918 Andromedia Drive', '5499 Flute Ridge', '3311 2nd Drive',\n",
       "       '7609 Rock St', '4652 Flute Drive', '6853 Sky Hwy',\n",
       "       '7780 Flute Lane', '1687 3rd Lane', '6378 Britain Ave',\n",
       "       '1306 Andromedia St', '3664 Francis Ridge', '5985 Lincoln Lane',\n",
       "       '3706 4th Hwy', '6603 Francis Hwy', '7069 4th Hwy',\n",
       "       '5093 Flute Lane', '5894 Flute Drive', '8459 Apache Ave',\n",
       "       '7447 Lincoln Ridge', '1821 Andromedia Ridge', '6859 Flute Ridge',\n",
       "       '4175 Elm Ridge', '5007 Oak St', '5790 Flute Ridge',\n",
       "       '8704 Britain Lane', '7816 MLK Lane', '3618 Maple Lane',\n",
       "       '7705 Lincoln Drive', '8602 Washington Ridge',\n",
       "       '2832 Andromedia Lane', '9760 4th Hwy', '2509 Rock Drive',\n",
       "       '2063 Weaver St', '3818 Texas Ridge', '3929 Elm Ave',\n",
       "       '9911 Britain Lane', '3246 Britain Ridge', '2696 Cherokee Ridge',\n",
       "       '5249 4th Ave', '4721 Cherokee Hwy', '8212 Flute Ridge',\n",
       "       '3592 MLK Ridge', '6494 4th Ave', '6608 Apache Lane',\n",
       "       '1553 Lincoln St', '7628 4th Lane', '3028 5th St', '8949 Rock Hwy',\n",
       "       '9751 Tree St', '4702 Texas Drive', '2757 4th Hwy',\n",
       "       '6678 Weaver Drive', '8667 Weaver Lane', '4931 Maple Drive',\n",
       "       '3808 5th Ave', '1725 Solo Lane', '8097 Maple Lane',\n",
       "       '3320 5th Hwy', '9573 2nd Ave', '8336 1st Ridge', '3998 4th Hwy',\n",
       "       '3966 Oak Hwy', '7601 Andromedia Lane', '5160 2nd Hwy',\n",
       "       '3288 Tree Lane', '5874 1st Hwy', '6467 Best Ave', '6309 5th Ave',\n",
       "       '8212 Rock Ave', '4107 MLK Ridge', '4558 3rd Hwy',\n",
       "       '1762 Maple Hwy', '5532 Francis Lane', '6158 Sky Ridge',\n",
       "       '9214 Elm Ridge', '1833 Solo Ave', '1953 Sky Lane',\n",
       "       '6834 1st Drive', '9562 4th Ridge', '4835 Britain Ridge',\n",
       "       '8548 Cherokee Ridge', '2352 MLK Drive', '9734 2nd Ridge',\n",
       "       '3122 Apache Drive', '9816 Britain St', '8214 Flute St',\n",
       "       '6259 Lincoln Hwy', '4492 Andromedia Ave', '6179 3rd Ridge',\n",
       "       '3799 Embaracadero Drive', '5071 1st Lane', '6574 4th Drive',\n",
       "       '2711 Britain Ave', '4214 MLK Ridge', '7976 Britain Drive',\n",
       "       '4995 Weaver Ridge', '1515 Embaracadero St', '2968 Andromedia Ave',\n",
       "       '9236 2nd Hwy', '9639 Britain Ridge', '9422 Washington Ridge',\n",
       "       '1213 4th Lane', '3872 5th Drive', '9397 5th Hwy', '8876 1st St',\n",
       "       '3397 5th Ave', '3263 Pine Ridge', '8639 5th Hwy',\n",
       "       '5743 4th Ridge', '3555 Francis Ridge', '4939 Oak Lane',\n",
       "       '3100 Best St', '3029 5th Ave', '8941 Solo Ridge',\n",
       "       '4447 Francis Hwy', '7701 Tree St', '4653 Pine St', '8742 4th St',\n",
       "       '7316 Texas Ave', '2950 MLK Ave', '8233 Tree Drive',\n",
       "       '4642 Rock Ridge', '7733 Britain Lane', '2753 Cherokee Ave',\n",
       "       '3995 Lincoln Hwy', '4095 MLK St', '5782 Rock Drive',\n",
       "       '2900 Sky Drive', '1515 Pine Lane', '4876 Washington Drive',\n",
       "       '5779 2nd Lane', '6706 Francis Drive', '6384 5th Ridge',\n",
       "       '3006 Lincoln Ridge', '5352 Lincoln Drive', '6110 Rock Ridge',\n",
       "       '7797 Tree Ridge', '4910 1st Lane', '8766 Lincoln Lane',\n",
       "       '6399 Oak Drive', '3127 Flute St', '8920 Best Ave',\n",
       "       '7314 Tree Drive', '8872 Oak Ridge', '5022 1st St',\n",
       "       '3423 Francis Ave', '9529 4th Drive', '1818 Tree St',\n",
       "       '4431 Rock St', '4782 Sky Lane', '7112 Weaver Ave',\n",
       "       '4020 Best Drive', '2037 5th Drive', '4699 Texas Ridge',\n",
       "       '1832 Elm Hwy', '5226 Maple St', '3771 4th St', '8701 5th Lane',\n",
       "       '7574 4th St', '1989 Solo Lane', '6331 MLK Ave', '8453 Elm St',\n",
       "       '1422 Flute Ave', '5058 4th Lane', '3098 Oak Lane',\n",
       "       '9103 MLK Lane', '8624 Francis Ave', '2905 Embaracadero Drive',\n",
       "       '3443 Maple Ridge', '1618 Maple Hwy', '3751 Tree Hwy',\n",
       "       '6848 Elm Hwy', '4237 4th St', '6581 Rock Ridge',\n",
       "       '7236 Apache Lane', '3846 4th Hwy', '5028 Maple Ridge',\n",
       "       '7426 Rock Drive', '5771 Best St', '9818 Cherokee Ave',\n",
       "       '7819 2nd Ave', '1331 Elm Ridge', '9240 Britain Ave',\n",
       "       '6668 Andromedia Ridge', '5276 2nd Lane', '2889 Weaver St',\n",
       "       '1879 4th Lane', '5499 Elm Hwy', '8822 Sky St', '4254 Best Ridge',\n",
       "       '5812 Weaver Ave', '7155 Apache Drive', '1376 Pine St',\n",
       "       '3340 3rd Hwy', '3097 4th Drive', '1916 Elm St',\n",
       "       '8917 Cherokee Lane', '8492 Weaver Hwy', '3753 Francis Lane',\n",
       "       '4545 4th Ridge', '2272 Embaracadero Drive', '5341 5th Ave',\n",
       "       '7745 Washington Ridge', '1275 4th Ridge', '4857 Weaver St',\n",
       "       '8211 Sky Hwy', '8617 Best Ave', '9856 Apache St', '1951 Best Ave',\n",
       "       '1824 5th Lane', '7393 Washington St', '1386 Britain St',\n",
       "       '7928 Maple Ridge', '1546 Cherokee Ave', '2003 2nd Hwy',\n",
       "       '9418 5th Hwy', '8770 1st Lane', '1087 Flute Drive',\n",
       "       '2217 Tree Lane', '6741 Oak Ridge', '2123 MLK Ridge',\n",
       "       '4390 4th Drive', '1437 3rd Lane', '1186 Rock St', '4394 Oak St',\n",
       "       '8368 Cherokee Ave', '4905 Best Lane', '3618 Sky Ave',\n",
       "       '5459 MLK Ave', '1371 Texas Lane', '2654 Embaracadero St',\n",
       "       '2123 Texas Ave', '4538 Flute Hwy', '4434 Weaver St',\n",
       "       '2798 1st Ave', '2809 Francis Lane', '7281 Oak St',\n",
       "       '9878 Washington Ave', '2537 5th Ave', '8493 Apache Drive',\n",
       "       '2878 Britain Hwy', '2862 Tree Ridge', '4453 Best Ave',\n",
       "       '5191 4th St', '1364 Best St', '8946 2nd Drive', '3726 MLK Hwy',\n",
       "       '2820 Britain St', '2646 MLK Drive', '6256 Elm St',\n",
       "       '9724 Maple St', '7397 4th Drive', '3488 Flute Lane',\n",
       "       '9082 3rd Lane', '1941 5th Ridge', '5333 MLK Lane', '4577 Sky Hwy',\n",
       "       '4814 Lincoln Lane', '2381 1st Hwy', '6939 3rd Hwy',\n",
       "       '5269 Flute Hwy', '7197 2nd Drive', '1741 Best Ridge',\n",
       "       '9148 4th Hwy', '4279 Solo Drive', '9177 Texas Ave',\n",
       "       '5969 Francis St', '9942 Tree Ave', '5474 Weaver Hwy',\n",
       "       '1102 Apache Hwy', '9214 Texas Drive', '8991 Texas Hwy',\n",
       "       '9580 MLK Ave', '5868 Best Drive', '5318 5th Ave',\n",
       "       '7502 Rock Lane', '4627 Elm Ridge', '5584 Britain Lane',\n",
       "       '7002 Oak Hwy', '4780 Best Drive', '8995 1st Ave', '5586 2nd St',\n",
       "       '1589 Best Ave', '1880 Weaver Drive', '7295 Tree Hwy',\n",
       "       '8832 Pine Drive', '1620 Oak Ave', '3847 Elm Hwy',\n",
       "       '3177 MLK Ridge', '3929 Oak Drive', '1469 Lincoln Drive',\n",
       "       '9719 4th Lane', '3196 Cherokee St', '8492 Andromedia Ridge',\n",
       "       '1353 Washington St', '6731 Andromedia Hwy', '5769 Texas Lane',\n",
       "       '2849 Pine Drive', '2577 Texas Ridge', '3841 Washington Lane',\n",
       "       '8125 Texas Ridge', '4826 5th St', '1578 5th Lane',\n",
       "       '6440 Rock Lane', '5806 Embaracadero St', '1472 4th Drive',\n",
       "       '5839 Weaver Lane', '7630 Rock Drive', '7144 Andromedia St',\n",
       "       '9988 Rock Ridge', '7544 Washington Ave', '7201 Washington Ave',\n",
       "       '8805 Cherokee Drive', '3275 Pine St', '7785 Lincoln Lane',\n",
       "       '4994 Lincoln Drive', '1298 Maple Hwy', '2644 MLK Drive',\n",
       "       '5630 1st Drive', '6137 MLK St', '5383 Maple Drive',\n",
       "       '4460 4th Lane', '8524 Pine Lane', '8456 1st Ave',\n",
       "       '3639 Flute Hwy', '7900 Sky Hwy', '7835 Cherokee Hwy',\n",
       "       '1030 Pine Lane', '9278 Francis Ridge', '6604 Apache Drive',\n",
       "       '2311 4th St', '9523 Solo Hwy', '3171 Andromedia Lane',\n",
       "       '2492 Lincoln Lane', '4477 5th Ave', '6724 Andromedia St',\n",
       "       '7495 Washington Ave', '4291 Sky Hwy', '5650 Rock Ave',\n",
       "       '6888 Elm Ridge', '2352 Sky Drive', '5280 Pine Ave',\n",
       "       '6638 Tree Drive', '5678 Lincoln Drive', '4496 Pine Lane',\n",
       "       '8845 5th Ave', '9317 Apache Ave', '8638 3rd Ave',\n",
       "       '3061 Francis Hwy', '1173 Andromedia Ave', '6068 2nd St',\n",
       "       '7937 Weaver Ridge', '2823 Weaver Lane', '1809 Sky St',\n",
       "       '9352 Washington Ave', '2697 Oak Drive', '1110 4th Drive',\n",
       "       '7535 5th Lane', '9043 Maple Hwy', '3777 Maple Ave',\n",
       "       '5608 Solo St', '6981 Weaver St', '4369 Maple Lane', '6931 Elm St',\n",
       "       '7583 Washington Ave', '7552 3rd St', '1654 Pine St',\n",
       "       '6058 Andromedia Hwy', '6536 MLK Hwy', '8198 Embaracadero Lane',\n",
       "       '3447 Solo Ave', '1806 Weaver Ridge', '7930 Texas Ave',\n",
       "       '7082 Oak Ridge', '6357 Texas Lane', '9322 Rock Hwy',\n",
       "       '6684 Solo Lane', '4885 Oak Lane', '7846 Andromedia Drive',\n",
       "       '3915 Embaracadero St', '4242 Rock Lane', '7405 Oak St',\n",
       "       '9633 4th St', '3492 Britain St', '7973 4th St',\n",
       "       '3952 Andromedia Lane', '6702 Andromedia St', '5455 Oak Hwy',\n",
       "       '2253 Maple Ave', '7897 Lincoln St', '8811 Maple Hwy',\n",
       "       '8167 Apache Ave', '5475 Rock Lane', '8215 Flute Drive',\n",
       "       '1320 Flute Lane', '1229 5th Ave', '3884 Pine Lane',\n",
       "       '7108 Tree St', '8014 Embaracadero Drive', '4937 Flute Drive',\n",
       "       '2889 Francis St', '7504 Flute Drive', '7570 Cherokee Drive',\n",
       "       '4710 Lincoln Hwy', '7511 1st Ave', '7042 Maple Ridge',\n",
       "       '4475 Lincoln Ridge', '9439 MLK St', '8269 Sky Hwy',\n",
       "       '5663 Oak Lane', '4633 5th Lane', '9682 Cherokee Ridge',\n",
       "       '4755 1st St', '5312 Francis Ridge', '1705 Weaver St',\n",
       "       '1643 Washington Hwy', '6516 Solo Drive', '6045 Andromedia St',\n",
       "       '3092 Texas Drive', '7629 5th St', '6128 Elm Lane',\n",
       "       '1416 Cherokee Ridge'], dtype=object)"
      ]
     },
     "execution_count": 98,
     "metadata": {},
     "output_type": "execute_result"
    }
   ],
   "source": [
    "d['incident_location'].unique()"
   ]
  },
  {
   "cell_type": "code",
   "execution_count": 99,
   "id": "325b11dd",
   "metadata": {},
   "outputs": [
    {
     "data": {
      "text/plain": [
       "own-child         183\n",
       "other-relative    177\n",
       "not-in-family     174\n",
       "husband           170\n",
       "wife              155\n",
       "unmarried         141\n",
       "Name: insured_relationship, dtype: int64"
      ]
     },
     "execution_count": 99,
     "metadata": {},
     "output_type": "execute_result"
    }
   ],
   "source": [
    "  data1['insured_relationship'].value_counts() "
   ]
  },
  {
   "cell_type": "code",
   "execution_count": 100,
   "id": "7115dcf5",
   "metadata": {},
   "outputs": [
    {
     "data": {
      "text/plain": [
       "machine-op-inspct    93\n",
       "prof-specialty       85\n",
       "tech-support         78\n",
       "sales                76\n",
       "exec-managerial      76\n",
       "craft-repair         74\n",
       "transport-moving     72\n",
       "other-service        71\n",
       "priv-house-serv      71\n",
       "armed-forces         69\n",
       "adm-clerical         65\n",
       "protective-serv      63\n",
       "handlers-cleaners    54\n",
       "farming-fishing      53\n",
       "Name: insured_occupation, dtype: int64"
      ]
     },
     "execution_count": 100,
     "metadata": {},
     "output_type": "execute_result"
    }
   ],
   "source": [
    "  data1['insured_occupation'].value_counts() "
   ]
  },
  {
   "cell_type": "code",
   "execution_count": 105,
   "id": "b35d18f8",
   "metadata": {},
   "outputs": [],
   "source": [
    "  ## Hobbies do not play imprtant role so i am droping it\n",
    "d.drop('insured_hobbies',axis=1,inplace=True)"
   ]
  },
  {
   "cell_type": "code",
   "execution_count": 103,
   "id": "9c809aeb",
   "metadata": {},
   "outputs": [
    {
     "data": {
      "text/plain": [
       "JD             161\n",
       "High School    160\n",
       "Associate      145\n",
       "MD             144\n",
       "Masters        143\n",
       "PhD            125\n",
       "College        122\n",
       "Name: insured_education_level, dtype: int64"
      ]
     },
     "execution_count": 103,
     "metadata": {},
     "output_type": "execute_result"
    }
   ],
   "source": [
    "data1['insured_education_level'].value_counts() "
   ]
  },
  {
   "cell_type": "code",
   "execution_count": 106,
   "id": "19b7ea47",
   "metadata": {},
   "outputs": [],
   "source": [
    "d= pd.get_dummies(d, columns = ['insured_education_level'])"
   ]
  },
  {
   "cell_type": "code",
   "execution_count": 107,
   "id": "75014e24",
   "metadata": {},
   "outputs": [],
   "source": [
    " d= pd.get_dummies(d, columns = ['insured_occupation'])"
   ]
  },
  {
   "cell_type": "code",
   "execution_count": 108,
   "id": "0f54fefa",
   "metadata": {},
   "outputs": [],
   "source": [
    "  d= pd.get_dummies(d, columns = ['insured_relationship'])"
   ]
  },
  {
   "cell_type": "code",
   "execution_count": 109,
   "id": "a6db03f3",
   "metadata": {},
   "outputs": [
    {
     "name": "stdout",
     "output_type": "stream",
     "text": [
      "<class 'pandas.core.frame.DataFrame'>\n",
      "RangeIndex: 1000 entries, 0 to 999\n",
      "Data columns (total 86 columns):\n",
      " #   Column                                  Non-Null Count  Dtype  \n",
      "---  ------                                  --------------  -----  \n",
      " 0   months_as_customer                      1000 non-null   int64  \n",
      " 1   age                                     1000 non-null   int64  \n",
      " 2   policy_number                           1000 non-null   int64  \n",
      " 3   policy_bind_date                        1000 non-null   object \n",
      " 4   policy_deductable                       1000 non-null   int64  \n",
      " 5   policy_annual_premium                   1000 non-null   float64\n",
      " 6   umbrella_limit                          1000 non-null   int64  \n",
      " 7   insured_zip                             1000 non-null   int64  \n",
      " 8   insured_sex                             1000 non-null   int64  \n",
      " 9   capital-gains                           1000 non-null   int64  \n",
      " 10  capital-loss                            1000 non-null   int64  \n",
      " 11  incident_date                           1000 non-null   object \n",
      " 12  incident_severity                       1000 non-null   int64  \n",
      " 13  incident_location                       1000 non-null   object \n",
      " 14  incident_hour_of_the_day                1000 non-null   int64  \n",
      " 15  number_of_vehicles_involved             1000 non-null   int64  \n",
      " 16  property_damage                         1000 non-null   int64  \n",
      " 17  bodily_injuries                         1000 non-null   int64  \n",
      " 18  witnesses                               1000 non-null   int64  \n",
      " 19  police_report_available                 1000 non-null   int64  \n",
      " 20  total_claim_amount                      1000 non-null   int64  \n",
      " 21  injury_claim                            1000 non-null   int64  \n",
      " 22  property_claim                          1000 non-null   int64  \n",
      " 23  vehicle_claim                           1000 non-null   int64  \n",
      " 24  auto_year                               1000 non-null   int64  \n",
      " 25  fraud_reported                          1000 non-null   int64  \n",
      " 26  policy_state_IL                         1000 non-null   uint8  \n",
      " 27  policy_state_IN                         1000 non-null   uint8  \n",
      " 28  policy_state_OH                         1000 non-null   uint8  \n",
      " 29  policy_csl_100/300                      1000 non-null   uint8  \n",
      " 30  policy_csl_250/500                      1000 non-null   uint8  \n",
      " 31  policy_csl_500/1000                     1000 non-null   uint8  \n",
      " 32  incident_city_Arlington                 1000 non-null   uint8  \n",
      " 33  incident_city_Columbus                  1000 non-null   uint8  \n",
      " 34  incident_city_Hillsdale                 1000 non-null   uint8  \n",
      " 35  incident_city_Northbend                 1000 non-null   uint8  \n",
      " 36  incident_city_Northbrook                1000 non-null   uint8  \n",
      " 37  incident_city_Riverwood                 1000 non-null   uint8  \n",
      " 38  incident_city_Springfield               1000 non-null   uint8  \n",
      " 39  incident_state_NC                       1000 non-null   uint8  \n",
      " 40  incident_state_NY                       1000 non-null   uint8  \n",
      " 41  incident_state_OH                       1000 non-null   uint8  \n",
      " 42  incident_state_PA                       1000 non-null   uint8  \n",
      " 43  incident_state_SC                       1000 non-null   uint8  \n",
      " 44  incident_state_VA                       1000 non-null   uint8  \n",
      " 45  incident_state_WV                       1000 non-null   uint8  \n",
      " 46  authorities_contacted_Ambulance         1000 non-null   uint8  \n",
      " 47  authorities_contacted_Fire              1000 non-null   uint8  \n",
      " 48  authorities_contacted_None              1000 non-null   uint8  \n",
      " 49  authorities_contacted_Other             1000 non-null   uint8  \n",
      " 50  authorities_contacted_Police            1000 non-null   uint8  \n",
      " 51  incident_type_Multi-vehicle Collision   1000 non-null   uint8  \n",
      " 52  incident_type_Parked Car                1000 non-null   uint8  \n",
      " 53  incident_type_Single Vehicle Collision  1000 non-null   uint8  \n",
      " 54  incident_type_Vehicle Theft             1000 non-null   uint8  \n",
      " 55  collision_type_?                        1000 non-null   uint8  \n",
      " 56  collision_type_Front Collision          1000 non-null   uint8  \n",
      " 57  collision_type_Rear Collision           1000 non-null   uint8  \n",
      " 58  collision_type_Side Collision           1000 non-null   uint8  \n",
      " 59  insured_education_level_Associate       1000 non-null   uint8  \n",
      " 60  insured_education_level_College         1000 non-null   uint8  \n",
      " 61  insured_education_level_High School     1000 non-null   uint8  \n",
      " 62  insured_education_level_JD              1000 non-null   uint8  \n",
      " 63  insured_education_level_MD              1000 non-null   uint8  \n",
      " 64  insured_education_level_Masters         1000 non-null   uint8  \n",
      " 65  insured_education_level_PhD             1000 non-null   uint8  \n",
      " 66  insured_occupation_adm-clerical         1000 non-null   uint8  \n",
      " 67  insured_occupation_armed-forces         1000 non-null   uint8  \n",
      " 68  insured_occupation_craft-repair         1000 non-null   uint8  \n",
      " 69  insured_occupation_exec-managerial      1000 non-null   uint8  \n",
      " 70  insured_occupation_farming-fishing      1000 non-null   uint8  \n",
      " 71  insured_occupation_handlers-cleaners    1000 non-null   uint8  \n",
      " 72  insured_occupation_machine-op-inspct    1000 non-null   uint8  \n",
      " 73  insured_occupation_other-service        1000 non-null   uint8  \n",
      " 74  insured_occupation_priv-house-serv      1000 non-null   uint8  \n",
      " 75  insured_occupation_prof-specialty       1000 non-null   uint8  \n",
      " 76  insured_occupation_protective-serv      1000 non-null   uint8  \n",
      " 77  insured_occupation_sales                1000 non-null   uint8  \n",
      " 78  insured_occupation_tech-support         1000 non-null   uint8  \n",
      " 79  insured_occupation_transport-moving     1000 non-null   uint8  \n",
      " 80  insured_relationship_husband            1000 non-null   uint8  \n",
      " 81  insured_relationship_not-in-family      1000 non-null   uint8  \n",
      " 82  insured_relationship_other-relative     1000 non-null   uint8  \n",
      " 83  insured_relationship_own-child          1000 non-null   uint8  \n",
      " 84  insured_relationship_unmarried          1000 non-null   uint8  \n",
      " 85  insured_relationship_wife               1000 non-null   uint8  \n",
      "dtypes: float64(1), int64(22), object(3), uint8(60)\n",
      "memory usage: 261.8+ KB\n"
     ]
    }
   ],
   "source": [
    "d.info()"
   ]
  },
  {
   "cell_type": "code",
   "execution_count": 110,
   "id": "e07afe95",
   "metadata": {},
   "outputs": [
    {
     "data": {
      "text/plain": [
       "2006-01-01    3\n",
       "1992-04-28    3\n",
       "1992-08-05    3\n",
       "1991-12-14    2\n",
       "2004-08-09    2\n",
       "             ..\n",
       "2014-06-03    1\n",
       "1998-12-12    1\n",
       "1999-02-18    1\n",
       "1997-10-30    1\n",
       "1996-11-11    1\n",
       "Name: policy_bind_date, Length: 951, dtype: int64"
      ]
     },
     "execution_count": 110,
     "metadata": {},
     "output_type": "execute_result"
    }
   ],
   "source": [
    " data1['policy_bind_date'].value_counts() "
   ]
  },
  {
   "cell_type": "code",
   "execution_count": 115,
   "id": "a5085791",
   "metadata": {},
   "outputs": [
    {
     "data": {
      "text/plain": [
       "2015-01-25    1\n",
       "2015-01-21    1\n",
       "2015-02-22    1\n",
       "Name: year, dtype: int64"
      ]
     },
     "execution_count": 115,
     "metadata": {},
     "output_type": "execute_result"
    }
   ],
   "source": [
    " d['year']."
   ]
  },
  {
   "cell_type": "code",
   "execution_count": null,
   "id": "4ed8bafe",
   "metadata": {},
   "outputs": [],
   "source": []
  },
  {
   "cell_type": "code",
   "execution_count": 119,
   "id": "4606f22e",
   "metadata": {},
   "outputs": [
    {
     "name": "stdout",
     "output_type": "stream",
     "text": [
      "<class 'pandas.core.frame.DataFrame'>\n",
      "RangeIndex: 1000 entries, 0 to 999\n",
      "Data columns (total 87 columns):\n",
      " #   Column                                  Non-Null Count  Dtype  \n",
      "---  ------                                  --------------  -----  \n",
      " 0   months_as_customer                      1000 non-null   int64  \n",
      " 1   age                                     1000 non-null   int64  \n",
      " 2   policy_number                           1000 non-null   int64  \n",
      " 3   policy_bind_date                        1000 non-null   object \n",
      " 4   policy_deductable                       1000 non-null   int64  \n",
      " 5   policy_annual_premium                   1000 non-null   float64\n",
      " 6   umbrella_limit                          1000 non-null   int64  \n",
      " 7   insured_zip                             1000 non-null   int64  \n",
      " 8   insured_sex                             1000 non-null   int64  \n",
      " 9   capital-gains                           1000 non-null   int64  \n",
      " 10  capital-loss                            1000 non-null   int64  \n",
      " 11  incident_date                           1000 non-null   object \n",
      " 12  incident_severity                       1000 non-null   int64  \n",
      " 13  incident_location                       1000 non-null   object \n",
      " 14  incident_hour_of_the_day                1000 non-null   int64  \n",
      " 15  number_of_vehicles_involved             1000 non-null   int64  \n",
      " 16  property_damage                         1000 non-null   int64  \n",
      " 17  bodily_injuries                         1000 non-null   int64  \n",
      " 18  witnesses                               1000 non-null   int64  \n",
      " 19  police_report_available                 1000 non-null   int64  \n",
      " 20  total_claim_amount                      1000 non-null   int64  \n",
      " 21  injury_claim                            1000 non-null   int64  \n",
      " 22  property_claim                          1000 non-null   int64  \n",
      " 23  vehicle_claim                           1000 non-null   int64  \n",
      " 24  auto_year                               1000 non-null   int64  \n",
      " 25  fraud_reported                          1000 non-null   int64  \n",
      " 26  policy_state_IL                         1000 non-null   uint8  \n",
      " 27  policy_state_IN                         1000 non-null   uint8  \n",
      " 28  policy_state_OH                         1000 non-null   uint8  \n",
      " 29  policy_csl_100/300                      1000 non-null   uint8  \n",
      " 30  policy_csl_250/500                      1000 non-null   uint8  \n",
      " 31  policy_csl_500/1000                     1000 non-null   uint8  \n",
      " 32  incident_city_Arlington                 1000 non-null   uint8  \n",
      " 33  incident_city_Columbus                  1000 non-null   uint8  \n",
      " 34  incident_city_Hillsdale                 1000 non-null   uint8  \n",
      " 35  incident_city_Northbend                 1000 non-null   uint8  \n",
      " 36  incident_city_Northbrook                1000 non-null   uint8  \n",
      " 37  incident_city_Riverwood                 1000 non-null   uint8  \n",
      " 38  incident_city_Springfield               1000 non-null   uint8  \n",
      " 39  incident_state_NC                       1000 non-null   uint8  \n",
      " 40  incident_state_NY                       1000 non-null   uint8  \n",
      " 41  incident_state_OH                       1000 non-null   uint8  \n",
      " 42  incident_state_PA                       1000 non-null   uint8  \n",
      " 43  incident_state_SC                       1000 non-null   uint8  \n",
      " 44  incident_state_VA                       1000 non-null   uint8  \n",
      " 45  incident_state_WV                       1000 non-null   uint8  \n",
      " 46  authorities_contacted_Ambulance         1000 non-null   uint8  \n",
      " 47  authorities_contacted_Fire              1000 non-null   uint8  \n",
      " 48  authorities_contacted_None              1000 non-null   uint8  \n",
      " 49  authorities_contacted_Other             1000 non-null   uint8  \n",
      " 50  authorities_contacted_Police            1000 non-null   uint8  \n",
      " 51  incident_type_Multi-vehicle Collision   1000 non-null   uint8  \n",
      " 52  incident_type_Parked Car                1000 non-null   uint8  \n",
      " 53  incident_type_Single Vehicle Collision  1000 non-null   uint8  \n",
      " 54  incident_type_Vehicle Theft             1000 non-null   uint8  \n",
      " 55  collision_type_?                        1000 non-null   uint8  \n",
      " 56  collision_type_Front Collision          1000 non-null   uint8  \n",
      " 57  collision_type_Rear Collision           1000 non-null   uint8  \n",
      " 58  collision_type_Side Collision           1000 non-null   uint8  \n",
      " 59  insured_education_level_Associate       1000 non-null   uint8  \n",
      " 60  insured_education_level_College         1000 non-null   uint8  \n",
      " 61  insured_education_level_High School     1000 non-null   uint8  \n",
      " 62  insured_education_level_JD              1000 non-null   uint8  \n",
      " 63  insured_education_level_MD              1000 non-null   uint8  \n",
      " 64  insured_education_level_Masters         1000 non-null   uint8  \n",
      " 65  insured_education_level_PhD             1000 non-null   uint8  \n",
      " 66  insured_occupation_adm-clerical         1000 non-null   uint8  \n",
      " 67  insured_occupation_armed-forces         1000 non-null   uint8  \n",
      " 68  insured_occupation_craft-repair         1000 non-null   uint8  \n",
      " 69  insured_occupation_exec-managerial      1000 non-null   uint8  \n",
      " 70  insured_occupation_farming-fishing      1000 non-null   uint8  \n",
      " 71  insured_occupation_handlers-cleaners    1000 non-null   uint8  \n",
      " 72  insured_occupation_machine-op-inspct    1000 non-null   uint8  \n",
      " 73  insured_occupation_other-service        1000 non-null   uint8  \n",
      " 74  insured_occupation_priv-house-serv      1000 non-null   uint8  \n",
      " 75  insured_occupation_prof-specialty       1000 non-null   uint8  \n",
      " 76  insured_occupation_protective-serv      1000 non-null   uint8  \n",
      " 77  insured_occupation_sales                1000 non-null   uint8  \n",
      " 78  insured_occupation_tech-support         1000 non-null   uint8  \n",
      " 79  insured_occupation_transport-moving     1000 non-null   uint8  \n",
      " 80  insured_relationship_husband            1000 non-null   uint8  \n",
      " 81  insured_relationship_not-in-family      1000 non-null   uint8  \n",
      " 82  insured_relationship_other-relative     1000 non-null   uint8  \n",
      " 83  insured_relationship_own-child          1000 non-null   uint8  \n",
      " 84  insured_relationship_unmarried          1000 non-null   uint8  \n",
      " 85  insured_relationship_wife               1000 non-null   uint8  \n",
      " 86  year                                    3 non-null      object \n",
      "dtypes: float64(1), int64(22), object(4), uint8(60)\n",
      "memory usage: 269.7+ KB\n"
     ]
    }
   ],
   "source": [
    "d.info()"
   ]
  },
  {
   "cell_type": "markdown",
   "id": "12bb7a8e",
   "metadata": {},
   "source": [
    "# Droping unwanted columns"
   ]
  },
  {
   "cell_type": "code",
   "execution_count": 130,
   "id": "b77e578c",
   "metadata": {},
   "outputs": [],
   "source": [
    "## Deleting Remaining columns beacuse they do not make much more sense to it \n",
    "d.drop('policy_bind_date',axis=1,inplace=True)\n"
   ]
  },
  {
   "cell_type": "code",
   "execution_count": 131,
   "id": "815b503e",
   "metadata": {},
   "outputs": [],
   "source": [
    "d.drop('incident_location',axis=1,inplace=True)"
   ]
  },
  {
   "cell_type": "code",
   "execution_count": 132,
   "id": "6d8eb59c",
   "metadata": {},
   "outputs": [],
   "source": [
    "d.drop('incident_date',axis=1,inplace=True)"
   ]
  },
  {
   "cell_type": "code",
   "execution_count": 133,
   "id": "d661d083",
   "metadata": {},
   "outputs": [
    {
     "name": "stdout",
     "output_type": "stream",
     "text": [
      "<class 'pandas.core.frame.DataFrame'>\n",
      "RangeIndex: 1000 entries, 0 to 999\n",
      "Data columns (total 84 columns):\n",
      " #   Column                                  Non-Null Count  Dtype  \n",
      "---  ------                                  --------------  -----  \n",
      " 0   months_as_customer                      1000 non-null   int64  \n",
      " 1   age                                     1000 non-null   int64  \n",
      " 2   policy_number                           1000 non-null   int64  \n",
      " 3   policy_deductable                       1000 non-null   int64  \n",
      " 4   policy_annual_premium                   1000 non-null   float64\n",
      " 5   umbrella_limit                          1000 non-null   int64  \n",
      " 6   insured_zip                             1000 non-null   int64  \n",
      " 7   insured_sex                             1000 non-null   int64  \n",
      " 8   capital-gains                           1000 non-null   int64  \n",
      " 9   capital-loss                            1000 non-null   int64  \n",
      " 10  incident_severity                       1000 non-null   int64  \n",
      " 11  incident_hour_of_the_day                1000 non-null   int64  \n",
      " 12  number_of_vehicles_involved             1000 non-null   int64  \n",
      " 13  property_damage                         1000 non-null   int64  \n",
      " 14  bodily_injuries                         1000 non-null   int64  \n",
      " 15  witnesses                               1000 non-null   int64  \n",
      " 16  police_report_available                 1000 non-null   int64  \n",
      " 17  total_claim_amount                      1000 non-null   int64  \n",
      " 18  injury_claim                            1000 non-null   int64  \n",
      " 19  property_claim                          1000 non-null   int64  \n",
      " 20  vehicle_claim                           1000 non-null   int64  \n",
      " 21  auto_year                               1000 non-null   int64  \n",
      " 22  fraud_reported                          1000 non-null   int64  \n",
      " 23  policy_state_IL                         1000 non-null   uint8  \n",
      " 24  policy_state_IN                         1000 non-null   uint8  \n",
      " 25  policy_state_OH                         1000 non-null   uint8  \n",
      " 26  policy_csl_100/300                      1000 non-null   uint8  \n",
      " 27  policy_csl_250/500                      1000 non-null   uint8  \n",
      " 28  policy_csl_500/1000                     1000 non-null   uint8  \n",
      " 29  incident_city_Arlington                 1000 non-null   uint8  \n",
      " 30  incident_city_Columbus                  1000 non-null   uint8  \n",
      " 31  incident_city_Hillsdale                 1000 non-null   uint8  \n",
      " 32  incident_city_Northbend                 1000 non-null   uint8  \n",
      " 33  incident_city_Northbrook                1000 non-null   uint8  \n",
      " 34  incident_city_Riverwood                 1000 non-null   uint8  \n",
      " 35  incident_city_Springfield               1000 non-null   uint8  \n",
      " 36  incident_state_NC                       1000 non-null   uint8  \n",
      " 37  incident_state_NY                       1000 non-null   uint8  \n",
      " 38  incident_state_OH                       1000 non-null   uint8  \n",
      " 39  incident_state_PA                       1000 non-null   uint8  \n",
      " 40  incident_state_SC                       1000 non-null   uint8  \n",
      " 41  incident_state_VA                       1000 non-null   uint8  \n",
      " 42  incident_state_WV                       1000 non-null   uint8  \n",
      " 43  authorities_contacted_Ambulance         1000 non-null   uint8  \n",
      " 44  authorities_contacted_Fire              1000 non-null   uint8  \n",
      " 45  authorities_contacted_None              1000 non-null   uint8  \n",
      " 46  authorities_contacted_Other             1000 non-null   uint8  \n",
      " 47  authorities_contacted_Police            1000 non-null   uint8  \n",
      " 48  incident_type_Multi-vehicle Collision   1000 non-null   uint8  \n",
      " 49  incident_type_Parked Car                1000 non-null   uint8  \n",
      " 50  incident_type_Single Vehicle Collision  1000 non-null   uint8  \n",
      " 51  incident_type_Vehicle Theft             1000 non-null   uint8  \n",
      " 52  collision_type_?                        1000 non-null   uint8  \n",
      " 53  collision_type_Front Collision          1000 non-null   uint8  \n",
      " 54  collision_type_Rear Collision           1000 non-null   uint8  \n",
      " 55  collision_type_Side Collision           1000 non-null   uint8  \n",
      " 56  insured_education_level_Associate       1000 non-null   uint8  \n",
      " 57  insured_education_level_College         1000 non-null   uint8  \n",
      " 58  insured_education_level_High School     1000 non-null   uint8  \n",
      " 59  insured_education_level_JD              1000 non-null   uint8  \n",
      " 60  insured_education_level_MD              1000 non-null   uint8  \n",
      " 61  insured_education_level_Masters         1000 non-null   uint8  \n",
      " 62  insured_education_level_PhD             1000 non-null   uint8  \n",
      " 63  insured_occupation_adm-clerical         1000 non-null   uint8  \n",
      " 64  insured_occupation_armed-forces         1000 non-null   uint8  \n",
      " 65  insured_occupation_craft-repair         1000 non-null   uint8  \n",
      " 66  insured_occupation_exec-managerial      1000 non-null   uint8  \n",
      " 67  insured_occupation_farming-fishing      1000 non-null   uint8  \n",
      " 68  insured_occupation_handlers-cleaners    1000 non-null   uint8  \n",
      " 69  insured_occupation_machine-op-inspct    1000 non-null   uint8  \n",
      " 70  insured_occupation_other-service        1000 non-null   uint8  \n",
      " 71  insured_occupation_priv-house-serv      1000 non-null   uint8  \n",
      " 72  insured_occupation_prof-specialty       1000 non-null   uint8  \n",
      " 73  insured_occupation_protective-serv      1000 non-null   uint8  \n",
      " 74  insured_occupation_sales                1000 non-null   uint8  \n",
      " 75  insured_occupation_tech-support         1000 non-null   uint8  \n",
      " 76  insured_occupation_transport-moving     1000 non-null   uint8  \n",
      " 77  insured_relationship_husband            1000 non-null   uint8  \n",
      " 78  insured_relationship_not-in-family      1000 non-null   uint8  \n",
      " 79  insured_relationship_other-relative     1000 non-null   uint8  \n",
      " 80  insured_relationship_own-child          1000 non-null   uint8  \n",
      " 81  insured_relationship_unmarried          1000 non-null   uint8  \n",
      " 82  insured_relationship_wife               1000 non-null   uint8  \n",
      " 83  year                                    3 non-null      object \n",
      "dtypes: float64(1), int64(22), object(1), uint8(60)\n",
      "memory usage: 246.2+ KB\n"
     ]
    }
   ],
   "source": [
    "d.info()"
   ]
  },
  {
   "cell_type": "code",
   "execution_count": 134,
   "id": "7734a68f",
   "metadata": {},
   "outputs": [],
   "source": [
    "d.drop('year',axis=1,inplace=True)"
   ]
  },
  {
   "cell_type": "markdown",
   "id": "bde0192f",
   "metadata": {},
   "source": [
    "# Train-Test-Split"
   ]
  },
  {
   "cell_type": "code",
   "execution_count": 135,
   "id": "cfee45a2",
   "metadata": {},
   "outputs": [],
   "source": [
    "k=d['fraud_reported']"
   ]
  },
  {
   "cell_type": "code",
   "execution_count": 148,
   "id": "1567ad3a",
   "metadata": {},
   "outputs": [],
   "source": [
    "d.drop('fraud_reported',axis=1,inplace=True)"
   ]
  },
  {
   "cell_type": "code",
   "execution_count": 149,
   "id": "76f6c931",
   "metadata": {},
   "outputs": [],
   "source": [
    "from sklearn.model_selection import train_test_split\n",
    "X_train, X_test, y_train, y_test = train_test_split(d, k, test_size=0.33, random_state=42)"
   ]
  },
  {
   "cell_type": "code",
   "execution_count": 150,
   "id": "6742b4e0",
   "metadata": {},
   "outputs": [
    {
     "data": {
      "text/plain": [
       "(670, 82)"
      ]
     },
     "execution_count": 150,
     "metadata": {},
     "output_type": "execute_result"
    }
   ],
   "source": [
    "X_train.shape"
   ]
  },
  {
   "cell_type": "markdown",
   "id": "207c0238",
   "metadata": {},
   "source": [
    "# RandomForestClassifier"
   ]
  },
  {
   "cell_type": "code",
   "execution_count": null,
   "id": "e41eb9fc",
   "metadata": {},
   "outputs": [],
   "source": [
    "from sklearn.ensemble import RandomForestClassifier as RC"
   ]
  },
  {
   "cell_type": "code",
   "execution_count": 152,
   "id": "8197300a",
   "metadata": {},
   "outputs": [],
   "source": [
    "clf = RC(n_estimators = 100) "
   ]
  },
  {
   "cell_type": "code",
   "execution_count": 153,
   "id": "1cd33e69",
   "metadata": {},
   "outputs": [
    {
     "data": {
      "text/plain": [
       "RandomForestClassifier()"
      ]
     },
     "execution_count": 153,
     "metadata": {},
     "output_type": "execute_result"
    }
   ],
   "source": [
    "clf.fit(X_train, y_train)"
   ]
  },
  {
   "cell_type": "code",
   "execution_count": 154,
   "id": "1e72a2cc",
   "metadata": {},
   "outputs": [],
   "source": [
    "y_pred = clf.predict(X_test)"
   ]
  },
  {
   "cell_type": "code",
   "execution_count": 155,
   "id": "55d08e24",
   "metadata": {},
   "outputs": [],
   "source": [
    "from sklearn import metrics"
   ]
  },
  {
   "cell_type": "markdown",
   "id": "2c1bbfef",
   "metadata": {},
   "source": [
    "# checking for accuracy"
   ]
  },
  {
   "cell_type": "code",
   "execution_count": 156,
   "id": "838b919f",
   "metadata": {},
   "outputs": [
    {
     "name": "stdout",
     "output_type": "stream",
     "text": [
      "ACCURACY OF THE MODEL:  0.7363636363636363\n"
     ]
    }
   ],
   "source": [
    "print(\"ACCURACY OF THE MODEL: \", metrics.accuracy_score(y_test, y_pred))"
   ]
  },
  {
   "cell_type": "markdown",
   "id": "5b376d76",
   "metadata": {},
   "source": [
    "# Accuracy of model is 73% on test data "
   ]
  },
  {
   "cell_type": "code",
   "execution_count": 158,
   "id": "f5c29671",
   "metadata": {},
   "outputs": [
    {
     "name": "stderr",
     "output_type": "stream",
     "text": [
      "C:\\Users\\Prince\\anaconda3\\lib\\site-packages\\seaborn\\distributions.py:2619: FutureWarning: `distplot` is a deprecated function and will be removed in a future version. Please adapt your code to use either `displot` (a figure-level function with similar flexibility) or `histplot` (an axes-level function for histograms).\n",
      "  warnings.warn(msg, FutureWarning)\n"
     ]
    },
    {
     "data": {
      "image/png": "[encoded data removed]",
      "text/plain": [
       "<Figure size 432x288 with 1 Axes>"
      ]
     },
     "metadata": {
      "needs_background": "light"
     },
     "output_type": "display_data"
    }
   ],
   "source": [
    "sns.distplot(y_test-y_pred)\n",
    "plt.show()"
   ]
  },
  {
   "cell_type": "code",
   "execution_count": null,
   "id": "683e66dc",
   "metadata": {},
   "outputs": [],
   "source": []
  },
  {
   "cell_type": "code",
   "execution_count": null,
   "id": "c78226b1",
   "metadata": {},
   "outputs": [],
   "source": []
  }
 ],
 "metadata": {
  "kernelspec": {
   "display_name": "Python 3 (ipykernel)",
   "language": "python",
   "name": "python3"
  },
  "language_info": {
   "codemirror_mode": {
    "name": "ipython",
    "version": 3
   },
   "file_extension": ".py",
   "mimetype": "text/x-python",
   "name": "python",
   "nbconvert_exporter": "python",
   "pygments_lexer": "ipython3",
   "version": "3.9.7"
  }
 },
 "nbformat": 4,
 "nbformat_minor": 5
}
